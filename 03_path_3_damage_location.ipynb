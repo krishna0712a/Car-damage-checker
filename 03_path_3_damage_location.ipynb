{
  "cells": [
    {
      "cell_type": "markdown",
      "metadata": {
        "id": "nUqg545L69Bp"
      },
      "source": [
        "# Path 3:\n",
        "To classify location of damage - front, rear or behind."
      ]
    },
    {
      "cell_type": "markdown",
      "metadata": {
        "id": "sYF_pJk_6z21"
      },
      "source": [
        "# Importing all the required libraries for this project"
      ]
    },
    {
      "cell_type": "code",
      "execution_count": null,
      "metadata": {
        "id": "-CmeYk3M7Gum"
      },
      "outputs": [],
      "source": [
        "import os\n",
        "import urllib.request\n",
        "import h5py\n",
        "import json\n",
        "import numpy as np\n",
        "import pandas as pd\n",
        "import seaborn as sns\n",
        "import matplotlib.pyplot as plt\n",
        "from collections import Counter\n",
        "from IPython.display import Image, display, clear_output\n",
        "from sklearn.metrics import classification_report, confusion_matrix\n",
        "\n",
        "%matplotlib inline\n",
        "sns.set_style('whitegrid')"
      ]
    },
    {
      "cell_type": "code",
      "execution_count": null,
      "metadata": {
        "id": "ofp_E_S37Vff"
      },
      "outputs": [],
      "source": [
        "from keras import optimizers\n",
        "from keras.models import Sequential, load_model, Model\n",
        "from keras.layers import Convolution2D, MaxPooling2D, ZeroPadding2D, Activation, Dense, Dropout, Flatten\n",
        "from keras.applications.vgg16 import VGG16\n",
        "from keras.callbacks import ModelCheckpoint, History\n",
        "from tensorflow.keras.utils import to_categorical\n",
        "from tensorflow.keras.preprocessing.image import ImageDataGenerator, array_to_img, img_to_array, load_img\n",
        "from keras.regularizers import l2, l1"
      ]
    },
    {
      "cell_type": "markdown",
      "metadata": {
        "id": "dTtuZPZQ7zg6"
      },
      "source": [
        "Using TensorFlow backend."
      ]
    },
    {
      "cell_type": "markdown",
      "metadata": {
        "id": "RFHigEAt7_-Q"
      },
      "source": [
        "This code defines a function called save_bottleneck_features(). This function's purpose is to extract and save features from images using a pre-trained deep learning model called VGG16. These extracted features are often referred to as \"bottleneck features\" and can be used for image classification tasks."
      ]
    },
    {
      "cell_type": "code",
      "execution_count": null,
      "metadata": {
        "id": "lb4nqwW570g1"
      },
      "outputs": [],
      "source": [
        "def save_bottleneck_features():\n",
        "    datagen = ImageDataGenerator(rescale=1./255)\n",
        "\n",
        "    model = VGG16(include_top=False, weights='imagenet')\n",
        "\n",
        "    generator = datagen.flow_from_directory(train_data_dir, target_size=(img_width,img_height), batch_size=batch_size, class_mode=None, shuffle=False)\n",
        "    bottleneck_features_train = model.predict_generator(generator, nb_train_samples//batch_size)\n",
        "    np.save(location+'/bottleneck_features_train.npy', bottleneck_features_train)\n",
        "\n",
        "    generator = datagen.flow_from_directory(validation_data_dir, target_size=(img_width,img_height), batch_size=batch_size, class_mode=None, shuffle=False)\n",
        "    bottleneck_features_validation = model.predict_generator(generator, nb_validation_samples//batch_size)\n",
        "    np.save(location+'/bottleneck_features_validation.npy', bottleneck_features_validation)"
      ]
    },
    {
      "cell_type": "markdown",
      "metadata": {
        "id": "OTssXceQ8JYO"
      },
      "source": [
        "This Python code defines a function called print_best_model_results. This function's purpose is to identify and display the best performance metrics achieved during the training of a machine learning model."
      ]
    },
    {
      "cell_type": "code",
      "execution_count": null,
      "metadata": {
        "id": "2IuR4mzY8Bur"
      },
      "outputs": [],
      "source": [
        "def print_best_model_results(model_hist):\n",
        "    best_epoch = np.argmax(model_hist['val_acc'])\n",
        "    print('epoch:', best_epoch+1, ', val_acc:', model_hist['val_acc'][best_epoch], ', val_loss:', model_hist['val_loss'][best_epoch])"
      ]
    },
    {
      "cell_type": "markdown",
      "metadata": {
        "id": "irbGbgpE8Udh"
      },
      "source": [
        "This function is designed to visualize the performance of a machine learning model during its training process. It takes two arguments:\n",
        "\n",
        "hist: This is a dictionary-like object (likely a Keras History object) containing the training and validation metrics recorded during the model's training. It's expected to have keys like 'acc', 'val_acc', 'loss', and 'val_loss'.\n",
        "stop: This argument determines the number of epochs to display on the plots. It defaults to 50."
      ]
    },
    {
      "cell_type": "code",
      "execution_count": null,
      "metadata": {
        "id": "BUjMe3HH8McM"
      },
      "outputs": [],
      "source": [
        "def plot_metrics(hist, stop=50):\n",
        "    fig, axes = plt.subplots(nrows=1, ncols=2, figsize=(10,4))\n",
        "    axes = axes.flatten()\n",
        "\n",
        "    axes[0].plot(range(stop), hist['acc'], label='Training')\n",
        "    axes[0].plot(range(stop), hist['val_acc'], label='Validation')\n",
        "    axes[0].set_title('Accuracy')\n",
        "    axes[0].set_ylabel('Accuracy')\n",
        "    axes[0].set_xlabel('Epoch')\n",
        "    axes[0].legend(loc='lower right')\n",
        "\n",
        "    axes[1].plot(range(stop), hist['loss'], label='Training')\n",
        "    axes[1].plot(range(stop), hist['val_loss'], label='Validation')\n",
        "    axes[1].set_title('Loss')\n",
        "    axes[1].set_ylabel('Loss')\n",
        "    axes[1].set_xlabel('Epoch')\n",
        "    axes[1].legend(loc='upper right')\n",
        "\n",
        "    plt.tight_layout();\n",
        "\n",
        "    print(\"Best Model:\")\n",
        "    print_best_model_results(hist)"
      ]
    },
    {
      "cell_type": "markdown",
      "metadata": {
        "id": "8TPkL2b_8ko6"
      },
      "source": [
        "This function is the core of a machine learning process designed to classify images into three categories (likely front, rear, or behind damage based on the initial comments). It uses a technique called transfer learning, leveraging pre-trained models to speed up the process"
      ]
    },
    {
      "cell_type": "code",
      "execution_count": null,
      "metadata": {
        "id": "kobq0_Ox8aa7"
      },
      "outputs": [],
      "source": [
        "def train_categorical_model():\n",
        "    train_data = np.load(location+'/bottleneck_features_train.npy')\n",
        "    train_labels = np.array([0]*(416) + [1]*(288) + [2]*(272))\n",
        "    train_labels = to_categorical(train_labels)\n",
        "\n",
        "    validation_data = np.load(location+'/bottleneck_features_validation.npy')\n",
        "    validation_labels = np.array([0]*(73) + [1]*(53) + [2]*(50))\n",
        "    validation_labels = to_categorical(validation_labels)\n",
        "\n",
        "    model = Sequential()\n",
        "    model.add(Flatten(input_shape=train_data.shape[1:]))\n",
        "    model.add(Dense(256, activation='relu'))\n",
        "    model.add(Dropout(0.5))\n",
        "    model.add(Dense(3, activation='softmax'))\n",
        "\n",
        "    model.compile(optimizer='rmsprop', loss='categorical_crossentropy', metrics=['accuracy'])\n",
        "\n",
        "    checkpoint = ModelCheckpoint(top_model_weights_path, monitor='val_acc', verbose=1, save_best_only=True, save_weights_only=True,mode='auto')\n",
        "\n",
        "    fit = model.fit(train_data, train_labels, epochs=epochs, batch_size=batch_size, validation_data=(validation_data,validation_labels), callbacks=[checkpoint])\n",
        "\n",
        "    with open(location+'/top_history.txt', 'w') as f:\n",
        "        json.dump(fit.history, f)\n",
        "\n",
        "    return model,fit.history\n"
      ]
    },
    {
      "cell_type": "markdown",
      "metadata": {
        "id": "jO6gjyZb8uqY"
      },
      "source": [
        "The finetune_categorical_model function, This function is designed to fine-tune a pre-trained model (VGG16) for a specific image classification task, likely classifying the location of damage in images (front, rear, or behind)."
      ]
    },
    {
      "cell_type": "code",
      "execution_count": null,
      "metadata": {
        "id": "M3iJoQIr8q4t"
      },
      "outputs": [],
      "source": [
        "def finetune_categorical_model():\n",
        "    input_tensor = Input(shape=(256,256,3))\n",
        "    base_model = VGG16(weights='imagenet',include_top= False,input_tensor=input_tensor)\n",
        "    print(\"Model loaded.\")\n",
        "    top_model = Sequential()\n",
        "    top_model.add(Flatten(input_shape=base_model.output_shape[1:]))\n",
        "    top_model.add(Dense(256, activation='relu'))\n",
        "    top_model.add(Dropout(0.5))\n",
        "    top_model.add(Dense(3, activation='softmax'))\n",
        "\n",
        "    top_model.load_weights(top_model_weights_path)\n",
        "\n",
        "    model = Model(inputs=base_model.input, outputs=top_model(base_model.output))\n",
        "\n",
        "    for layer in model.layers[:25]:\n",
        "        layer.trainable = False\n",
        "\n",
        "    model.compile(loss='categorical_crossentropy', optimizer=optimizers.SGD(lr=0.00001, momentum=0.9), metrics=['accuracy'])\n",
        "\n",
        "    train_datagen = ImageDataGenerator(rescale=1./255, shear_range=0.2, zoom_range=0.2, horizontal_flip=True)\n",
        "\n",
        "    test_datagen = ImageDataGenerator(rescale=1./255)\n",
        "\n",
        "    train_generator = train_datagen.flow_from_directory(train_data_dir, target_size=(img_height, img_width), batch_size=batch_size, class_mode='categorical')\n",
        "\n",
        "    validation_generator = test_datagen.flow_from_directory(validation_data_dir, target_size=(img_height, img_width), batch_size=batch_size, class_mode='categorical')\n",
        "\n",
        "    checkpoint = ModelCheckpoint(fine_tuned_model_path, monitor='val_acc', verbose=1, save_best_only=True, save_weights_only=False, mode='auto')\n",
        "\n",
        "    fit = model.fit_generator(train_generator, steps_per_epoch=nb_train_samples//batch_size, epochs=epochs, validation_data=validation_generator, validation_steps=nb_validation_samples//batch_size, verbose=1, callbacks=[checkpoint])\n",
        "\n",
        "    with open(location+'/ft_history.txt', 'w') as f:\n",
        "        json.dump(fit.history, f)\n",
        "\n",
        "    return model, fit.history"
      ]
    },
    {
      "cell_type": "markdown",
      "metadata": {
        "id": "0TZ6_3yy8_ky"
      },
      "source": [
        "This function is designed to assess the performance of a trained categorical model, which likely classifies images into categories such as front, rear, or behind damage."
      ]
    },
    {
      "cell_type": "code",
      "execution_count": null,
      "metadata": {
        "id": "JFqHNtto86fK"
      },
      "outputs": [],
      "source": [
        "def evaluate_categorical_model(model, directory, labels):\n",
        "    datagen = ImageDataGenerator(rescale=1./255)\n",
        "\n",
        "    generator = datagen.flow_from_directory(directory, target_size=(img_height,img_width), batch_size=batch_size, class_mode='categorical', shuffle=False)\n",
        "\n",
        "    predictions = model.predict_generator(generator, len(labels))\n",
        "\n",
        "    pred_labels = [0 if i<0.5 else 1 for i in predictions]\n",
        "\n",
        "    print('')\n",
        "    print(classification_report(validation_labels, pred_labels))\n",
        "    print('')\n",
        "    cm = confusion_matrix(validation_labels, pred_labels)\n",
        "    return cm"
      ]
    },
    {
      "cell_type": "markdown",
      "metadata": {
        "id": "P97E7iXd9Enw"
      },
      "source": [
        "# Image dataset details"
      ]
    },
    {
      "cell_type": "markdown",
      "metadata": {
        "id": "kdIB0ch2jwfL"
      },
      "source": [
        "This code snippet is primarily focused on setting up important parameters and file paths for the image classification task"
      ]
    },
    {
      "cell_type": "code",
      "execution_count": null,
      "metadata": {
        "id": "F9QPuNlF9GL-"
      },
      "outputs": [],
      "source": [
        "location = '/content/drive/MyDrive/data2'\n",
        "top_model_weights_path = location+'/top_model_weights.h5'\n",
        "fine_tuned_model_path = location+'/ft_model.h5'\n",
        "model1 = location+'/bottleneck_fc_model.h5'\n",
        "train_data_dir = location+'/training'\n",
        "validation_data_dir = location+'/validation'\n",
        "train_samples = [len(os.listdir(train_data_dir+'/'+i)) for i in sorted(os.listdir(train_data_dir))]\n",
        "nb_train_samples = 976\n",
        "validation_samples = [len(os.listdir(validation_data_dir+'/'+i)) for i in sorted(os.listdir(validation_data_dir))]\n",
        "nb_validation_samples = 176\n",
        "\n",
        "img_width, img_height = 256,256\n",
        "epochs = 50\n",
        "batch_size = 16"
      ]
    },
    {
      "cell_type": "markdown",
      "metadata": {
        "id": "PScDYlQ4kImF"
      },
      "source": [
        "This function, save_bottleneck_features, is designed to extract and save important features from your image data. These features are then used for training a more efficient classification model"
      ]
    },
    {
      "cell_type": "code",
      "execution_count": null,
      "metadata": {
        "id": "YSFHGbW_jxvm"
      },
      "outputs": [],
      "source": [
        "def save_bottleneck_features():\n",
        "    datagen = ImageDataGenerator(rescale=1./255)\n",
        "\n",
        "    model = VGG16(include_top=False, weights='imagenet')\n",
        "\n",
        "    generator = datagen.flow_from_directory(train_data_dir, target_size=(img_width,img_height), batch_size=batch_size, class_mode=None, shuffle=False)\n",
        "    # Use predict instead of predict_generator\n",
        "    bottleneck_features_train = model.predict(generator, steps=nb_train_samples//batch_size)\n",
        "    np.save(location+'/bottleneck_features_train.npy', bottleneck_features_train)\n",
        "\n",
        "    generator = datagen.flow_from_directory(validation_data_dir, target_size=(img_width,img_height), batch_size=batch_size, class_mode=None, shuffle=False)\n",
        "    # Use predict instead of predict_generator\n",
        "    bottleneck_features_validation = model.predict(generator, steps=nb_validation_samples//batch_size)\n",
        "    np.save(location+'/bottleneck_features_validation.npy', bottleneck_features_validation)"
      ]
    },
    {
      "cell_type": "markdown",
      "source": [
        "This line is defining a variable called top_model_weights_path and assigning it a value"
      ],
      "metadata": {
        "id": "boZWLyV4U1KR"
      }
    },
    {
      "cell_type": "code",
      "execution_count": null,
      "metadata": {
        "id": "657_eL8pj-UC"
      },
      "outputs": [],
      "source": [
        "top_model_weights_path = location+'/top_model_weights.weights.h5' # Change the file extension to .weights.h5"
      ]
    },
    {
      "cell_type": "markdown",
      "source": [
        "This function, train_categorical_model, is designed to train a model to categorize images"
      ],
      "metadata": {
        "id": "L9_K0k6fU7iR"
      }
    },
    {
      "cell_type": "code",
      "execution_count": null,
      "metadata": {
        "id": "fsGYGFmdk4uM"
      },
      "outputs": [],
      "source": [
        "def train_categorical_model():\n",
        "    train_data = np.load(location+'/bottleneck_features_train.npy')\n",
        "    train_labels = np.array([0]*(416) + [1]*(288) + [2]*(272))  # Original line\n",
        "    train_labels = to_categorical(train_labels)\n",
        "\n",
        "    validation_data = np.load(location+'/bottleneck_features_validation.npy')\n",
        "    validation_labels = np.array([0]*(73) + [1]*(53) + [2]*(50))\n",
        "    validation_labels = to_categorical(validation_labels)\n",
        "\n",
        "    # Check the shapes of train_data and train_labels"
      ]
    },
    {
      "cell_type": "markdown",
      "source": [
        "This function, train_categorical_model, is the heart of the machine learning process for classifying images into categories (probably 'front', 'rear', and 'behind' damage)"
      ],
      "metadata": {
        "id": "8qvBkPuMVEVG"
      }
    },
    {
      "cell_type": "code",
      "execution_count": null,
      "metadata": {
        "id": "Mi04_5_klHc6"
      },
      "outputs": [],
      "source": [
        "def train_categorical_model():\n",
        "    train_data = np.load(location+'/bottleneck_features_train.npy')\n",
        "    train_labels = np.array([0]*(416) + [1]*(288) + [2]*(272))  # Original line\n",
        "    train_labels = to_categorical(train_labels)\n",
        "\n",
        "    validation_data = np.load(location+'/bottleneck_features_validation.npy')\n",
        "    validation_labels = np.array([0]*(73) + [1]*(53) + [2]*(50))\n",
        "    validation_labels = to_categorical(validation_labels)\n",
        "\n",
        "    # ... (rest of your model definition and training code) ...\n",
        "\n",
        "    # Add a return statement to return the model and history\n",
        "    return model, fit.history"
      ]
    },
    {
      "cell_type": "markdown",
      "source": [
        "This function, train_categorical_model, is the core of training a machine learning model to classify images into three categories. These categories are likely \"front,\" \"rear,\" and \"behind\" damage, based on the context of the code."
      ],
      "metadata": {
        "id": "sOl6zwrJVPeh"
      }
    },
    {
      "cell_type": "markdown",
      "source": [
        "This function, train_categorical_model, is the core of building and training a machine learning model to classify images into three categories, likely \"front,\" \"rear,\" and \"behind\" damage."
      ],
      "metadata": {
        "id": "IAtbbGAkVZos"
      }
    },
    {
      "cell_type": "code",
      "execution_count": null,
      "metadata": {
        "id": "D5GwFXiplbI_"
      },
      "outputs": [],
      "source": [
        "def train_categorical_model():\n",
        "    train_data = np.load(location+'/bottleneck_features_train.npy')\n",
        "    train_labels = np.array([0]*(416) + [1]*(288) + [2]*(272))  # Original line\n",
        "    train_labels = to_categorical(train_labels)\n",
        "\n",
        "    validation_data = np.load(location+'/bottleneck_features_validation.npy')\n",
        "    validation_labels = np.array([0]*(73) + [1]*(53) + [2]*(50))\n",
        "    validation_labels = to_categorical(validation_labels)\n",
        "\n",
        "    # Define the model\n",
        "    model = Sequential()\n",
        "    model.add(Flatten(input_shape=train_data.shape[1:]))\n",
        "    model.add(Dense(256, activation='relu'))\n",
        "    model.add(Dropout(0.5))\n",
        "    model.add(Dense(3, activation='softmax'))\n",
        "\n",
        "    model.compile(optimizer='rmsprop', loss='categorical_crossentropy', metrics=['accuracy'])\n",
        "\n",
        "    checkpoint = ModelCheckpoint(top_model_weights_path, monitor='val_acc', verbose=1, save_best_only=True, save_weights_only=True,mode='auto')\n",
        "\n",
        "    # Train the model\n",
        "    fit = model.fit(train_data, train_labels, epochs=epochs, batch_size=batch_size, validation_data=(validation_data,validation_labels), callbacks=[checkpoint])\n",
        "\n",
        "    # Return the model and history\n",
        "    return model, fit.history"
      ]
    },
    {
      "cell_type": "markdown",
      "source": [
        "This function, train_categorical_model, is the core of building and training a machine learning model for image classification, specifically designed to categorize images into three distinct classes (likely \"front,\" \"rear,\" and \"behind\" damage)."
      ],
      "metadata": {
        "id": "If7GgrvUVh0Y"
      }
    },
    {
      "cell_type": "markdown",
      "source": [
        " This function is the heart of training a machine learning model to classify images into three categories, most likely related to the location of damage in the images (front, rear, or behind)"
      ],
      "metadata": {
        "id": "8f_1pLaKVoHz"
      }
    },
    {
      "cell_type": "code",
      "execution_count": null,
      "metadata": {
        "id": "Ubd_LzwRlqZf"
      },
      "outputs": [],
      "source": [
        "def train_categorical_model():\n",
        "    train_data = np.load(location+'/bottleneck_features_train.npy')\n",
        "    # The number of samples in train_labels should match the number of samples in train_data\n",
        "    # Since train_data has 1824 samples, we adjust train_labels accordingly.\n",
        "    train_labels = np.array([0]*(416*2) + [1]*(288*2) + [2]*(272*2))\n",
        "    train_labels = to_categorical(train_labels)\n",
        "\n",
        "    validation_data = np.load(location+'/bottleneck_features_validation.npy')\n",
        "    validation_labels = np.array([0]*(73) + [1]*(53) + [2]*(50))  # This should be reviewed and fixed\n",
        "    validation_labels = to_categorical(validation_labels)\n",
        "\n",
        "    # Define the model\n",
        "    model = Sequential()\n",
        "    model.add(Flatten(input_shape=train_data.shape[1:]))\n",
        "    model.add(Dense(256, activation='relu'))\n",
        "    model.add(Dropout(0.5))\n",
        "    model.add(Dense(3, activation='softmax'))\n",
        "\n",
        "    model.compile(optimizer='rmsprop', loss='categorical_crossentropy', metrics=['accuracy'])\n",
        "\n",
        "    checkpoint = ModelCheckpoint(top_model_weights_path, monitor='val_acc', verbose=1, save_best_only=True, save_weights_only=True,mode='auto')\n",
        "\n",
        "    # Train the model\n",
        "    fit = model.fit(train_data, train_labels, epochs=epochs, batch_size=batch_size, validation_data=(validation_data,validation_labels), callbacks=[checkpoint])\n",
        "\n",
        "    # Return the model and history\n",
        "    return model, fit.history"
      ]
    },
    {
      "cell_type": "markdown",
      "source": [
        "This function, train_categorical_model, is a crucial part of a machine learning workflow for image classification. It seems to be focused on preparing the training and validation data for a model that will classify images into three categories (likely front, rear, or behind damage, based on surrounding comments)."
      ],
      "metadata": {
        "id": "9oI-eNOqVv9F"
      }
    },
    {
      "cell_type": "code",
      "execution_count": null,
      "metadata": {
        "id": "qzjJ_JDNmAdh"
      },
      "outputs": [],
      "source": [
        "def train_categorical_model():\n",
        "    train_data = np.load(location+'/bottleneck_features_train.npy')\n",
        "    # The number of samples in train_labels should match the number of samples in train_data\n",
        "    # Since train_data has shape (number_of_samples, features_dimension_1, features_dimension_2, ...),\n",
        "    # we extract the number of samples using train_data.shape[0]\n",
        "    num_samples = train_data.shape[0]\n",
        "\n",
        "    # Assuming you have 3 classes and want to distribute the labels evenly\n",
        "    # You might need to adjust this based on your actual data distribution\n",
        "    # For example, if you know the exact number of samples per class, you can use that instead\n",
        "    train_labels = np.repeat(np.arange(3), num_samples // 3)\n",
        "    # If num_samples is not divisible by 3, you might need to handle the remaining samples\n",
        "    # One option is to truncate train_labels to match num_samples\n",
        "    train_labels = train_labels[:num_samples]\n",
        "    train_labels = to_categorical(train_labels)\n",
        "\n",
        "    validation_data = np.load(location+'/bottleneck_features_validation.npy')\n",
        "    # Similar adjustments may be needed for validation_"
      ]
    },
    {
      "cell_type": "markdown",
      "source": [
        " This function is designed to prepare the data for training a categorical model, likely for image classification into three categories (e.g., front, rear, or behind damage). It focuses on creating and formatting the labels for the training and validation datasets"
      ],
      "metadata": {
        "id": "ZmXLlJqyV3mE"
      }
    },
    {
      "cell_type": "code",
      "execution_count": null,
      "metadata": {
        "id": "4eKmZUfEmXjJ"
      },
      "outputs": [],
      "source": [
        "def train_categorical_model():\n",
        "    train_data = np.load(location+'/bottleneck_features_train.npy')\n",
        "    # The number of samples in train_labels should match the number of samples in train_data\n",
        "    # Since train_data has shape (number_of_samples, features_dimension_1, features_dimension_2, ...),\n",
        "    # we extract the number of samples using train_data.shape[0]\n",
        "    num_samples = train_data.shape[0]\n",
        "\n",
        "    # Assuming you have 3 classes and want to distribute the labels evenly\n",
        "    # You might need to adjust this based on your actual data distribution\n",
        "    # For example, if you know the exact number of samples per class, you can use that instead\n",
        "    train_labels = np.repeat(np.arange(3), num_samples // 3)\n",
        "    # If num_samples is not divisible by 3, you might need to handle the remaining samples\n",
        "    # One option is to truncate train_labels to match num_samples\n",
        "    train_labels = train_labels[:num_samples]\n",
        "    train_labels = to_categorical(train_labels)\n",
        "\n",
        "    validation_data = np.load(location+'/bottleneck_features_validation.npy')\n",
        "    # Similar adjustments may be needed for validation_labels\n",
        "    num_val_samples = validation_data.shape[0]\n",
        "    validation_labels = np.repeat(np.arange(3), num_val_samples // 3)\n",
        "    validation_labels = validation_labels[:num_val_samples]\n",
        "    validation_labels"
      ]
    },
    {
      "cell_type": "markdown",
      "source": [
        "This function, train_categorical_model(), is the core of the process, responsible for building, training, and returning a machine learning model.\n",
        "\n"
      ],
      "metadata": {
        "id": "SwBGWTcMWBj9"
      }
    },
    {
      "cell_type": "code",
      "execution_count": null,
      "metadata": {
        "id": "jzkrlfA0mmS1"
      },
      "outputs": [],
      "source": [
        "def train_categorical_model():\n",
        "    train_data = np.load(location+'/bottleneck_features_train.npy')\n",
        "    # The number of samples in train_labels should match the number of samples in train_data\n",
        "    # Since train_data has shape (number_of_samples, features_dimension_1, features_dimension_2, ...),\n",
        "    # we extract the number of samples using train_data.shape[0]\n",
        "    num_samples = train_data.shape[0]\n",
        "\n",
        "    # Assuming you have 3 classes and want to distribute the labels evenly\n",
        "    # You might need to adjust this based on your actual data distribution\n",
        "    # For example, if you know the exact number of samples per class, you can use that instead\n",
        "    train_labels = np.repeat(np.arange(3), num_samples // 3)\n",
        "    # If num_samples is not divisible by 3, you might need to handle the remaining samples\n",
        "    # One option is to truncate train_labels to match num_samples\n",
        "    train_labels = train_labels[:num_samples]\n",
        "    train_labels = to_categorical(train_labels)\n",
        "\n",
        "    validation_data = np.load(location+'/bottleneck_features_validation.npy')\n",
        "    # Similar adjustments may be needed for validation_labels\n",
        "    num_val_samples = validation_data.shape[0]\n",
        "    validation_labels = np.repeat(np.arange(3), num_val_samples // 3)\n",
        "    validation_labels = validation_labels[:num_val_samples]\n",
        "    validation_labels = to_categorical(validation_labels) # Convert validation_labels to categorical\n",
        "\n",
        "    # Define the model\n",
        "    model = Sequential()\n",
        "    model.add(Flatten(input_shape=train_data.shape[1:]))\n",
        "    model.add(Dense(256, activation='relu'))\n",
        "    model.add(Dropout(0.5))\n",
        "    model.add(Dense(3, activation='softmax'))\n",
        "\n",
        "    model.compile(optimizer='rmsprop', loss='categorical_crossentropy', metrics=['accuracy'])\n",
        "\n",
        "    checkpoint = ModelCheckpoint(top_model_weights_path, monitor='val_acc', verbose=1, save_best_only=True, save_weights_only=True,mode='auto')\n",
        "\n",
        "    # Train the model\n",
        "    fit = model.fit(train_data, train_labels, epochs=epochs, batch_size=batch_size, validation_data=(validation_data,validation_labels), callbacks=[checkpoint])\n",
        "\n",
        "    # Return the model and history\n",
        "    return model, fit.history"
      ]
    },
    {
      "cell_type": "markdown",
      "source": [
        "This function is the core of building and training a machine learning model to categorize images, likely into three damage categories (\"front,\" \"rear,\" and \"behind\")."
      ],
      "metadata": {
        "id": "hfqaiJr_WRBc"
      }
    },
    {
      "cell_type": "code",
      "execution_count": null,
      "metadata": {
        "id": "S3bBzBCgm55Z"
      },
      "outputs": [],
      "source": [
        "def train_categorical_model():\n",
        "    train_data = np.load(location+'/bottleneck_features_train.npy')\n",
        "    # The number of samples in train_labels should match the number of samples in train_data\n",
        "    # Since train_data has shape (number_of_samples, features_dimension_1, features_dimension_2, ...),\n",
        "    # we extract the number of samples using train_data.shape[0]\n",
        "    num_samples = train_data.shape[0]\n",
        "\n",
        "    # Assuming you have 3 classes and want to distribute the labels evenly\n",
        "    # You might need to adjust this based on your actual data distribution\n",
        "    # For example, if you know the exact number of samples per class, you can use that instead\n",
        "    # Instead of np.repeat, let's use np.tile to repeat the sequence [0, 1, 2]\n",
        "    train_labels = np.tile(np.arange(3), num_samples // 3 + 1)[:num_samples]\n",
        "    train_labels = to_categorical(train_labels)\n",
        "\n",
        "    validation_data = np.load(location+'/bottleneck_features_validation.npy')\n",
        "    # Similar adjustments may be needed for validation_labels\n",
        "    num_val_samples = validation_data.shape[0]\n",
        "    validation_labels = np.tile(np.arange(3), num_val_samples // 3 + 1)[:num_val_samples]\n",
        "    validation_labels = to_categorical(validation_labels)  # Convert validation_labels to categorical\n",
        "\n",
        "    # Define the model\n",
        "    model = Sequential()\n",
        "    model.add(Flatten(input_shape=train_data.shape[1:]))\n",
        "    model.add(Dense(256, activation='relu'))\n",
        "    model.add(Dropout(0.5))\n",
        "    model.add(Dense(3, activation='softmax'))\n",
        "\n",
        "    model.compile(optimizer='rmsprop', loss='categorical_crossentropy', metrics=['accuracy'])\n",
        "\n",
        "    checkpoint = ModelCheckpoint(top_model_weights_path, monitor='val_acc', verbose=1, save_best_only=True, save_weights_only=True, mode='auto')\n",
        "\n",
        "    # Train the model\n",
        "    fit = model.fit(train_data, train_labels, epochs=epochs, batch_size=batch_size, validation_data=(validation_data, validation_labels), callbacks=[checkpoint])\n",
        "\n",
        "    # Return the model and history\n",
        "    return model, fit.history"
      ]
    },
    {
      "cell_type": "markdown",
      "source": [
        "This line is where the actual training of the image classification model happens"
      ],
      "metadata": {
        "id": "Sl7jOYNSWX52"
      }
    },
    {
      "cell_type": "code",
      "execution_count": null,
      "metadata": {
        "colab": {
          "base_uri": "https://localhost:8080/"
        },
        "id": "ifn2FrMXnRt1",
        "outputId": "1f640359-4453-45e8-96c7-3f31583a7c63"
      },
      "outputs": [
        {
          "output_type": "stream",
          "name": "stderr",
          "text": [
            "/usr/local/lib/python3.10/dist-packages/keras/src/layers/reshaping/flatten.py:37: UserWarning: Do not pass an `input_shape`/`input_dim` argument to a layer. When using Sequential models, prefer using an `Input(shape)` object as the first layer in the model instead.\n",
            "  super().__init__(**kwargs)\n"
          ]
        },
        {
          "output_type": "stream",
          "name": "stdout",
          "text": [
            "Epoch 1/50\n",
            "\u001b[1m114/114\u001b[0m \u001b[32m━━━━━━━━━━━━━━━━━━━━\u001b[0m\u001b[37m\u001b[0m \u001b[1m19s\u001b[0m 158ms/step - accuracy: 0.3311 - loss: 5.6773 - val_accuracy: 0.3371 - val_loss: 1.0988\n",
            "Epoch 2/50\n"
          ]
        },
        {
          "output_type": "stream",
          "name": "stderr",
          "text": [
            "/usr/local/lib/python3.10/dist-packages/keras/src/callbacks/model_checkpoint.py:206: UserWarning: Can save best model only with val_acc available, skipping.\n",
            "  self._save_model(epoch=epoch, batch=None, logs=logs)\n"
          ]
        },
        {
          "output_type": "stream",
          "name": "stdout",
          "text": [
            "\u001b[1m114/114\u001b[0m \u001b[32m━━━━━━━━━━━━━━━━━━━━\u001b[0m\u001b[37m\u001b[0m \u001b[1m20s\u001b[0m 156ms/step - accuracy: 0.3296 - loss: 1.2850 - val_accuracy: 0.3348 - val_loss: 1.0991\n",
            "Epoch 3/50\n",
            "\u001b[1m114/114\u001b[0m \u001b[32m━━━━━━━━━━━━━━━━━━━━\u001b[0m\u001b[37m\u001b[0m \u001b[1m21s\u001b[0m 164ms/step - accuracy: 0.3505 - loss: 1.1507 - val_accuracy: 0.3438 - val_loss: 1.1060\n",
            "Epoch 4/50\n",
            "\u001b[1m114/114\u001b[0m \u001b[32m━━━━━━━━━━━━━━━━━━━━\u001b[0m\u001b[37m\u001b[0m \u001b[1m20s\u001b[0m 157ms/step - accuracy: 0.3342 - loss: 1.1380 - val_accuracy: 0.3348 - val_loss: 1.4326\n",
            "Epoch 5/50\n",
            "\u001b[1m114/114\u001b[0m \u001b[32m━━━━━━━━━━━━━━━━━━━━\u001b[0m\u001b[37m\u001b[0m \u001b[1m20s\u001b[0m 157ms/step - accuracy: 0.3437 - loss: 1.1456 - val_accuracy: 0.3661 - val_loss: 1.1055\n",
            "Epoch 6/50\n",
            "\u001b[1m114/114\u001b[0m \u001b[32m━━━━━━━━━━━━━━━━━━━━\u001b[0m\u001b[37m\u001b[0m \u001b[1m22s\u001b[0m 166ms/step - accuracy: 0.3452 - loss: 1.1186 - val_accuracy: 0.3214 - val_loss: 1.1098\n",
            "Epoch 7/50\n",
            "\u001b[1m114/114\u001b[0m \u001b[32m━━━━━━━━━━━━━━━━━━━━\u001b[0m\u001b[37m\u001b[0m \u001b[1m19s\u001b[0m 156ms/step - accuracy: 0.3617 - loss: 1.1263 - val_accuracy: 0.3415 - val_loss: 1.1249\n",
            "Epoch 8/50\n",
            "\u001b[1m114/114\u001b[0m \u001b[32m━━━━━━━━━━━━━━━━━━━━\u001b[0m\u001b[37m\u001b[0m \u001b[1m21s\u001b[0m 159ms/step - accuracy: 0.3742 - loss: 1.1380 - val_accuracy: 0.3460 - val_loss: 1.1522\n",
            "Epoch 9/50\n",
            "\u001b[1m114/114\u001b[0m \u001b[32m━━━━━━━━━━━━━━━━━━━━\u001b[0m\u001b[37m\u001b[0m \u001b[1m18s\u001b[0m 157ms/step - accuracy: 0.3751 - loss: 1.1370 - val_accuracy: 0.3638 - val_loss: 1.1005\n",
            "Epoch 10/50\n",
            "\u001b[1m114/114\u001b[0m \u001b[32m━━━━━━━━━━━━━━━━━━━━\u001b[0m\u001b[37m\u001b[0m \u001b[1m22s\u001b[0m 166ms/step - accuracy: 0.3897 - loss: 1.1126 - val_accuracy: 0.3705 - val_loss: 1.2198\n",
            "Epoch 11/50\n",
            "\u001b[1m114/114\u001b[0m \u001b[32m━━━━━━━━━━━━━━━━━━━━\u001b[0m\u001b[37m\u001b[0m \u001b[1m19s\u001b[0m 157ms/step - accuracy: 0.4074 - loss: 1.1501 - val_accuracy: 0.3371 - val_loss: 1.1335\n",
            "Epoch 12/50\n",
            "\u001b[1m114/114\u001b[0m \u001b[32m━━━━━━━━━━━━━━━━━━━━\u001b[0m\u001b[37m\u001b[0m \u001b[1m20s\u001b[0m 155ms/step - accuracy: 0.4086 - loss: 1.0923 - val_accuracy: 0.3728 - val_loss: 1.1478\n",
            "Epoch 13/50\n",
            "\u001b[1m114/114\u001b[0m \u001b[32m━━━━━━━━━━━━━━━━━━━━\u001b[0m\u001b[37m\u001b[0m \u001b[1m22s\u001b[0m 169ms/step - accuracy: 0.4165 - loss: 1.0284 - val_accuracy: 0.3460 - val_loss: 1.1595\n",
            "Epoch 14/50\n",
            "\u001b[1m114/114\u001b[0m \u001b[32m━━━━━━━━━━━━━━━━━━━━\u001b[0m\u001b[37m\u001b[0m \u001b[1m19s\u001b[0m 156ms/step - accuracy: 0.4354 - loss: 1.0711 - val_accuracy: 0.3750 - val_loss: 1.1403\n",
            "Epoch 15/50\n",
            "\u001b[1m114/114\u001b[0m \u001b[32m━━━━━━━━━━━━━━━━━━━━\u001b[0m\u001b[37m\u001b[0m \u001b[1m21s\u001b[0m 157ms/step - accuracy: 0.4756 - loss: 1.0096 - val_accuracy: 0.3170 - val_loss: 1.3385\n",
            "Epoch 16/50\n",
            "\u001b[1m114/114\u001b[0m \u001b[32m━━━━━━━━━━━━━━━━━━━━\u001b[0m\u001b[37m\u001b[0m \u001b[1m22s\u001b[0m 166ms/step - accuracy: 0.5070 - loss: 0.9883 - val_accuracy: 0.3594 - val_loss: 1.1532\n",
            "Epoch 17/50\n",
            "\u001b[1m114/114\u001b[0m \u001b[32m━━━━━━━━━━━━━━━━━━━━\u001b[0m\u001b[37m\u001b[0m \u001b[1m19s\u001b[0m 154ms/step - accuracy: 0.5123 - loss: 0.9592 - val_accuracy: 0.3683 - val_loss: 1.1740\n",
            "Epoch 18/50\n",
            "\u001b[1m114/114\u001b[0m \u001b[32m━━━━━━━━━━━━━━━━━━━━\u001b[0m\u001b[37m\u001b[0m \u001b[1m18s\u001b[0m 155ms/step - accuracy: 0.5481 - loss: 0.9159 - val_accuracy: 0.3616 - val_loss: 1.2122\n",
            "Epoch 19/50\n",
            "\u001b[1m114/114\u001b[0m \u001b[32m━━━━━━━━━━━━━━━━━━━━\u001b[0m\u001b[37m\u001b[0m \u001b[1m21s\u001b[0m 163ms/step - accuracy: 0.5643 - loss: 0.9320 - val_accuracy: 0.3080 - val_loss: 1.2039\n",
            "Epoch 20/50\n",
            "\u001b[1m114/114\u001b[0m \u001b[32m━━━━━━━━━━━━━━━━━━━━\u001b[0m\u001b[37m\u001b[0m \u001b[1m20s\u001b[0m 156ms/step - accuracy: 0.5418 - loss: 0.8692 - val_accuracy: 0.4040 - val_loss: 1.2300\n",
            "Epoch 21/50\n",
            "\u001b[1m114/114\u001b[0m \u001b[32m━━━━━━━━━━━━━━━━━━━━\u001b[0m\u001b[37m\u001b[0m \u001b[1m18s\u001b[0m 158ms/step - accuracy: 0.5848 - loss: 0.8460 - val_accuracy: 0.3594 - val_loss: 1.3016\n",
            "Epoch 22/50\n",
            "\u001b[1m114/114\u001b[0m \u001b[32m━━━━━━━━━━━━━━━━━━━━\u001b[0m\u001b[37m\u001b[0m \u001b[1m18s\u001b[0m 156ms/step - accuracy: 0.5898 - loss: 0.8458 - val_accuracy: 0.3705 - val_loss: 1.3424\n",
            "Epoch 23/50\n",
            "\u001b[1m114/114\u001b[0m \u001b[32m━━━━━━━━━━━━━━━━━━━━\u001b[0m\u001b[37m\u001b[0m \u001b[1m18s\u001b[0m 157ms/step - accuracy: 0.5956 - loss: 0.8101 - val_accuracy: 0.3594 - val_loss: 1.7886\n",
            "Epoch 24/50\n",
            "\u001b[1m114/114\u001b[0m \u001b[32m━━━━━━━━━━━━━━━━━━━━\u001b[0m\u001b[37m\u001b[0m \u001b[1m21s\u001b[0m 165ms/step - accuracy: 0.6040 - loss: 0.7947 - val_accuracy: 0.3393 - val_loss: 1.2117\n",
            "Epoch 25/50\n",
            "\u001b[1m114/114\u001b[0m \u001b[32m━━━━━━━━━━━━━━━━━━━━\u001b[0m\u001b[37m\u001b[0m \u001b[1m18s\u001b[0m 159ms/step - accuracy: 0.6258 - loss: 0.7853 - val_accuracy: 0.3705 - val_loss: 1.4942\n",
            "Epoch 26/50\n",
            "\u001b[1m114/114\u001b[0m \u001b[32m━━━━━━━━━━━━━━━━━━━━\u001b[0m\u001b[37m\u001b[0m \u001b[1m20s\u001b[0m 158ms/step - accuracy: 0.6296 - loss: 0.8009 - val_accuracy: 0.3661 - val_loss: 1.3581\n",
            "Epoch 27/50\n",
            "\u001b[1m114/114\u001b[0m \u001b[32m━━━━━━━━━━━━━━━━━━━━\u001b[0m\u001b[37m\u001b[0m \u001b[1m18s\u001b[0m 158ms/step - accuracy: 0.6218 - loss: 0.7280 - val_accuracy: 0.3705 - val_loss: 1.4449\n",
            "Epoch 28/50\n",
            "\u001b[1m114/114\u001b[0m \u001b[32m━━━━━━━━━━━━━━━━━━━━\u001b[0m\u001b[37m\u001b[0m \u001b[1m18s\u001b[0m 161ms/step - accuracy: 0.6930 - loss: 0.6694 - val_accuracy: 0.3616 - val_loss: 1.4763\n",
            "Epoch 29/50\n",
            "\u001b[1m114/114\u001b[0m \u001b[32m━━━━━━━━━━━━━━━━━━━━\u001b[0m\u001b[37m\u001b[0m \u001b[1m32s\u001b[0m 277ms/step - accuracy: 0.6922 - loss: 0.6291 - val_accuracy: 0.3460 - val_loss: 1.3903\n",
            "Epoch 30/50\n",
            "\u001b[1m114/114\u001b[0m \u001b[32m━━━━━━━━━━━━━━━━━━━━\u001b[0m\u001b[37m\u001b[0m \u001b[1m28s\u001b[0m 165ms/step - accuracy: 0.6727 - loss: 0.6936 - val_accuracy: 0.3571 - val_loss: 1.4426\n",
            "Epoch 31/50\n",
            "\u001b[1m114/114\u001b[0m \u001b[32m━━━━━━━━━━━━━━━━━━━━\u001b[0m\u001b[37m\u001b[0m \u001b[1m22s\u001b[0m 178ms/step - accuracy: 0.7136 - loss: 0.6056 - val_accuracy: 0.3549 - val_loss: 1.5591\n",
            "Epoch 32/50\n",
            "\u001b[1m114/114\u001b[0m \u001b[32m━━━━━━━━━━━━━━━━━━━━\u001b[0m\u001b[37m\u001b[0m \u001b[1m19s\u001b[0m 170ms/step - accuracy: 0.7222 - loss: 0.5917 - val_accuracy: 0.3304 - val_loss: 2.1577\n",
            "Epoch 33/50\n",
            "\u001b[1m114/114\u001b[0m \u001b[32m━━━━━━━━━━━━━━━━━━━━\u001b[0m\u001b[37m\u001b[0m \u001b[1m19s\u001b[0m 162ms/step - accuracy: 0.7004 - loss: 0.6704 - val_accuracy: 0.3862 - val_loss: 1.8207\n",
            "Epoch 34/50\n",
            "\u001b[1m114/114\u001b[0m \u001b[32m━━━━━━━━━━━━━━━━━━━━\u001b[0m\u001b[37m\u001b[0m \u001b[1m19s\u001b[0m 165ms/step - accuracy: 0.7207 - loss: 0.5940 - val_accuracy: 0.3438 - val_loss: 1.5295\n",
            "Epoch 35/50\n",
            "\u001b[1m114/114\u001b[0m \u001b[32m━━━━━━━━━━━━━━━━━━━━\u001b[0m\u001b[37m\u001b[0m \u001b[1m19s\u001b[0m 167ms/step - accuracy: 0.7364 - loss: 0.5619 - val_accuracy: 0.3482 - val_loss: 1.6998\n",
            "Epoch 36/50\n",
            "\u001b[1m114/114\u001b[0m \u001b[32m━━━━━━━━━━━━━━━━━━━━\u001b[0m\u001b[37m\u001b[0m \u001b[1m21s\u001b[0m 169ms/step - accuracy: 0.7449 - loss: 0.5354 - val_accuracy: 0.3438 - val_loss: 1.9519\n",
            "Epoch 37/50\n",
            "\u001b[1m114/114\u001b[0m \u001b[32m━━━━━━━━━━━━━━━━━━━━\u001b[0m\u001b[37m\u001b[0m \u001b[1m19s\u001b[0m 164ms/step - accuracy: 0.7521 - loss: 0.5651 - val_accuracy: 0.3482 - val_loss: 1.8311\n",
            "Epoch 38/50\n",
            "\u001b[1m114/114\u001b[0m \u001b[32m━━━━━━━━━━━━━━━━━━━━\u001b[0m\u001b[37m\u001b[0m \u001b[1m19s\u001b[0m 163ms/step - accuracy: 0.7498 - loss: 0.5341 - val_accuracy: 0.3326 - val_loss: 1.9818\n",
            "Epoch 39/50\n",
            "\u001b[1m114/114\u001b[0m \u001b[32m━━━━━━━━━━━━━━━━━━━━\u001b[0m\u001b[37m\u001b[0m \u001b[1m22s\u001b[0m 177ms/step - accuracy: 0.7704 - loss: 0.5597 - val_accuracy: 0.3616 - val_loss: 1.8844\n",
            "Epoch 40/50\n",
            "\u001b[1m114/114\u001b[0m \u001b[32m━━━━━━━━━━━━━━━━━━━━\u001b[0m\u001b[37m\u001b[0m \u001b[1m20s\u001b[0m 168ms/step - accuracy: 0.7746 - loss: 0.5048 - val_accuracy: 0.3482 - val_loss: 2.1002\n",
            "Epoch 41/50\n",
            "\u001b[1m114/114\u001b[0m \u001b[32m━━━━━━━━━━━━━━━━━━━━\u001b[0m\u001b[37m\u001b[0m \u001b[1m20s\u001b[0m 163ms/step - accuracy: 0.7660 - loss: 0.4891 - val_accuracy: 0.3348 - val_loss: 1.6762\n",
            "Epoch 42/50\n",
            "\u001b[1m114/114\u001b[0m \u001b[32m━━━━━━━━━━━━━━━━━━━━\u001b[0m\u001b[37m\u001b[0m \u001b[1m22s\u001b[0m 173ms/step - accuracy: 0.7849 - loss: 0.4770 - val_accuracy: 0.3326 - val_loss: 2.0224\n",
            "Epoch 43/50\n",
            "\u001b[1m114/114\u001b[0m \u001b[32m━━━━━━━━━━━━━━━━━━━━\u001b[0m\u001b[37m\u001b[0m \u001b[1m20s\u001b[0m 173ms/step - accuracy: 0.8097 - loss: 0.4626 - val_accuracy: 0.3795 - val_loss: 1.8347\n",
            "Epoch 44/50\n",
            "\u001b[1m114/114\u001b[0m \u001b[32m━━━━━━━━━━━━━━━━━━━━\u001b[0m\u001b[37m\u001b[0m \u001b[1m19s\u001b[0m 163ms/step - accuracy: 0.7970 - loss: 0.4318 - val_accuracy: 0.3683 - val_loss: 2.0732\n",
            "Epoch 45/50\n",
            "\u001b[1m114/114\u001b[0m \u001b[32m━━━━━━━━━━━━━━━━━━━━\u001b[0m\u001b[37m\u001b[0m \u001b[1m20s\u001b[0m 162ms/step - accuracy: 0.7686 - loss: 0.5262 - val_accuracy: 0.3527 - val_loss: 2.4615\n",
            "Epoch 46/50\n",
            "\u001b[1m114/114\u001b[0m \u001b[32m━━━━━━━━━━━━━━━━━━━━\u001b[0m\u001b[37m\u001b[0m \u001b[1m22s\u001b[0m 171ms/step - accuracy: 0.8097 - loss: 0.4489 - val_accuracy: 0.3616 - val_loss: 2.1763\n",
            "Epoch 47/50\n",
            "\u001b[1m114/114\u001b[0m \u001b[32m━━━━━━━━━━━━━━━━━━━━\u001b[0m\u001b[37m\u001b[0m \u001b[1m20s\u001b[0m 164ms/step - accuracy: 0.7861 - loss: 0.4900 - val_accuracy: 0.3348 - val_loss: 2.4997\n",
            "Epoch 48/50\n",
            "\u001b[1m114/114\u001b[0m \u001b[32m━━━━━━━━━━━━━━━━━━━━\u001b[0m\u001b[37m\u001b[0m \u001b[1m21s\u001b[0m 165ms/step - accuracy: 0.7973 - loss: 0.4667 - val_accuracy: 0.3393 - val_loss: 2.2395\n",
            "Epoch 49/50\n",
            "\u001b[1m114/114\u001b[0m \u001b[32m━━━━━━━━━━━━━━━━━━━━\u001b[0m\u001b[37m\u001b[0m \u001b[1m22s\u001b[0m 174ms/step - accuracy: 0.8070 - loss: 0.4415 - val_accuracy: 0.3460 - val_loss: 2.3711\n",
            "Epoch 50/50\n",
            "\u001b[1m114/114\u001b[0m \u001b[32m━━━━━━━━━━━━━━━━━━━━\u001b[0m\u001b[37m\u001b[0m \u001b[1m19s\u001b[0m 164ms/step - accuracy: 0.8109 - loss: 0.4589 - val_accuracy: 0.3326 - val_loss: 2.2406\n"
          ]
        }
      ],
      "source": [
        "d3_model, d3_history = train_categorical_model()"
      ]
    },
    {
      "cell_type": "markdown",
      "source": [
        "This function, plot_metrics, is designed to visualize the performance of a machine learning model during its training process. It creates two plots side-by-side: one for accuracy and one for loss. These plots show how the model's performance changes over time (epochs) for both the training data and the validation data."
      ],
      "metadata": {
        "id": "0ZDjpJUkWhb4"
      }
    },
    {
      "cell_type": "code",
      "source": [
        "def plot_metrics(hist, stop=50):\n",
        "    fig, axes = plt.subplots(nrows=1, ncols=2, figsize=(10,4))\n",
        "    axes = axes.flatten()\n",
        "\n",
        "    # Use 'accuracy' instead of 'acc'\n",
        "    axes[0].plot(range(stop), hist['accuracy'], label='Training')\n",
        "    # Use 'val_accuracy' instead of 'val_acc'\n",
        "    axes[0].plot(range(stop), hist['val_accuracy'], label='Validation')\n",
        "    axes[0].set_title('Accuracy')\n",
        "    axes[0].set_ylabel('Accuracy')\n",
        "    axes[0].set_xlabel('Epoch')\n",
        "    axes[0].legend(loc='lower right')\n",
        "\n",
        "    axes[1].plot(range(stop), hist['loss'], label='Training')\n",
        "    axes[1].plot(range(stop), hist['val_loss'], label='Validation')\n",
        "    axes[1].set_title('Loss')\n",
        "    axes[1].set_ylabel('Loss')\n",
        "    axes[1].set_xlabel('Epoch')\n",
        "    axes[1].legend(loc='upper right')\n",
        "\n",
        "    plt.tight_layout();\n",
        "\n",
        "    print(\"Best Model:\")\n",
        "    # Update print_best_model_results as well if it uses 'acc' or 'val_acc'\n",
        "    print_best_model_results(hist)"
      ],
      "metadata": {
        "id": "WjxzT11r0lU7"
      },
      "execution_count": null,
      "outputs": []
    },
    {
      "cell_type": "markdown",
      "source": [
        "This code defines two functions, print_best_model_results and plot_metrics, which work together to display the performance of a machine learning model during training."
      ],
      "metadata": {
        "id": "a8_LJ7ltWp0c"
      }
    },
    {
      "cell_type": "code",
      "source": [
        "def print_best_model_results(model_hist):\n",
        "    # Replace 'val_acc' with 'val_accuracy'\n",
        "    best_epoch = np.argmax(model_hist['val_accuracy'])\n",
        "    print('epoch:', best_epoch+1, ', val_acc:', model_hist['val_accuracy'][best_epoch], ', val_loss:', model_hist['val_loss'][best_epoch])\n",
        "\n",
        "def plot_metrics(hist, stop=50):\n",
        "    fig, axes = plt.subplots(nrows=1, ncols=2, figsize=(10,4))\n",
        "    axes = axes.flatten()\n",
        "\n",
        "    axes[0].plot(range(stop), hist['accuracy'], label='Training')\n",
        "    # Replace 'val_acc' with 'val_accuracy'\n",
        "    axes[0].plot(range(stop), hist['val_accuracy'], label='Validation')\n",
        "    axes[0].set_title('Accuracy')\n",
        "    axes[0].set_ylabel('Accuracy')\n",
        "    axes[0].set_xlabel('Epoch')\n",
        "    axes[0].legend(loc='lower right')\n",
        "\n",
        "    axes[1].plot(range(stop), hist['loss'], label='Training')\n",
        "    axes[1].plot(range(stop), hist['val_loss'], label='Validation')\n",
        "    axes[1].set_title('Loss')\n",
        "    axes[1].set_ylabel('Loss')\n",
        "    axes[1].set_xlabel('Epoch')\n",
        "    axes[1].legend(loc='upper right')\n",
        "\n",
        "    plt.tight_layout();\n",
        "\n",
        "    print(\"Best Model:\")\n",
        "    print_best_model_results(hist)"
      ],
      "metadata": {
        "id": "l5ctThou02yy"
      },
      "execution_count": null,
      "outputs": []
    },
    {
      "cell_type": "markdown",
      "source": [
        "This line is responsible for visualizing the performance of your trained machine learning model."
      ],
      "metadata": {
        "id": "CwA0cpHSWwDw"
      }
    },
    {
      "cell_type": "code",
      "source": [
        "plot_metrics(d3_history)"
      ],
      "metadata": {
        "colab": {
          "base_uri": "https://localhost:8080/",
          "height": 442
        },
        "id": "tf0gb-o31MTr",
        "outputId": "ad526810-7da6-41df-de70-130c9cf7beec"
      },
      "execution_count": null,
      "outputs": [
        {
          "output_type": "stream",
          "name": "stdout",
          "text": [
            "Best Model:\n",
            "epoch: 20 , val_acc: 0.4040178656578064 , val_loss: 1.2300159931182861\n"
          ]
        },
        {
          "output_type": "display_data",
          "data": {
            "text/plain": [
              "<Figure size 1000x400 with 2 Axes>"
            ],
            "image/png": "[encoded data removed]"
          },
          "metadata": {}
        }
      ]
    },
    {
      "cell_type": "markdown",
      "source": [
        "These two lines work together to set up a mechanism to save the best performing model weights during training. The model's weights are saved to the file specified by top_model_weights_path only when the validation accuracy (val_acc) improves. This ensures that you retain the model's optimal state throughout the training process."
      ],
      "metadata": {
        "id": "dT-H0aUcW5BV"
      }
    },
    {
      "cell_type": "code",
      "source": [
        "top_model_weights_path = location+'/top_model_weights.weights.h5'  # Changed the file extension to .weights.h5\n",
        "checkpoint = ModelCheckpoint(top_model_weights_path, monitor='val_acc', verbose=1, save_best_only=True, save_weights_only=True,mode='auto')"
      ],
      "metadata": {
        "id": "5OWDQh7wNNoj"
      },
      "execution_count": null,
      "outputs": []
    },
    {
      "cell_type": "markdown",
      "source": [
        "This function is designed to fine-tune a pre-trained model called VGG16 for a specific image classification task, likely the one classifying the location of damage in images (front, rear, or behind)."
      ],
      "metadata": {
        "id": "FGixY8NkXDlU"
      }
    },
    {
      "cell_type": "code",
      "source": [
        "def finetune_categorical_model():\n",
        "    input_tensor = Input(shape=(256,256,3))\n",
        "    base_model = VGG16(weights='imagenet',include_top= False,input_tensor=input_tensor)\n",
        "    print(\"Model loaded.\")\n",
        "    top_model = Sequential()\n",
        "    top_model.add(Flatten(input_shape=base_model.output_shape[1:]))\n",
        "    top_model.add(Dense(256, activation='relu'))\n",
        "    top_model.add(Dropout(0.5))\n",
        "    top_model.add(Dense(3, activation='softmax'))\n",
        "\n",
        "    # Load the weights here, within the function's scope\n",
        "    top_model.load_weights(top_model_weights_path)\n",
        "\n",
        "    model = Model(inputs=base_model.input, outputs=top_model(base_model.output))\n",
        "\n",
        "    for layer in model.layers[:25]:\n",
        "        layer.trainable = False\n",
        "\n",
        "    model.compile(loss='categorical_crossentropy', optimizer=optimizers.SGD(lr=0.00001, momentum=0.9), metrics=['accuracy'])\n",
        "\n",
        "    train_datagen = ImageDataGenerator(rescale=1./255, shear_range=0.2, zoom_range=0.2, horizontal_flip=True)\n",
        "\n",
        "    test_datagen = ImageDataGenerator(rescale=1./255)\n",
        "\n",
        "    train_generator = train_datagen.flow_from_directory(train_data_dir, target_size=(img_height, img_width), batch_size=batch_size, class_mode='categorical')\n",
        "\n",
        "    validation_generator = test_datagen.flow_from_directory(validation_data_dir, target_size=(img_height, img_width), batch_size=batch_size, class_mode='categorical')\n",
        "\n",
        "    checkpoint = ModelCheckpoint(fine_tuned_model_path, monitor='val_acc', verbose=1, save_best_only=True, save_weights_only=False, mode='auto')\n",
        "\n",
        "    fit = model.fit_generator(train_generator, steps_per_epoch=nb_train_samples//batch_size, epochs=epochs, validation_data=validation_generator, validation_steps=nb_validation_samples//batch_size, verbose=1, callbacks=[checkpoint])\n",
        "\n",
        "    with open(location+'/ft_history.txt', 'w') as f:\n",
        "        json.dump(fit.history, f)\n",
        "\n",
        "    return model, fit.history"
      ],
      "metadata": {
        "id": "7Q1TZlFpN8-k"
      },
      "execution_count": null,
      "outputs": []
    },
    {
      "cell_type": "markdown",
      "source": [
        "This function is designed to fine-tune a pre-trained VGG16 model for a specific image classification task (likely front, rear, behind damage classification). Let's go through it step by step:\n",
        "\n",
        "input_tensor = Input(shape=(256,256,3)): Defines the input shape for the model. This means the model expects images of size 256x256 pixels with 3 color channels (RGB).\n",
        "\n",
        "base_model = VGG16(weights='imagenet',include_top= False,input_tensor=input_tensor): Loads the pre-trained VGG16 model with weights trained on the ImageNet dataset. include_top=False means we are excluding the fully connected layers at the top of the VGG16"
      ],
      "metadata": {
        "id": "7PK64E9OXKIe"
      }
    },
    {
      "cell_type": "code",
      "source": [
        "import os\n",
        "import urllib.request\n",
        "import h5py\n",
        "import json\n",
        "import numpy as np\n",
        "import pandas as pd\n",
        "import seaborn as sns\n",
        "import matplotlib.pyplot as plt\n",
        "from collections import Counter\n",
        "from IPython.display import Image, display, clear_output\n",
        "from sklearn.metrics import classification_report, confusion_matrix\n",
        "\n",
        "%matplotlib inline\n",
        "sns.set_style('whitegrid')\n",
        "\n",
        "from keras import optimizers\n",
        "from keras.models import Sequential, load_model, Model\n",
        "from keras.layers import Convolution2D, MaxPooling2D, ZeroPadding2D, Activation, Dense, Dropout, Flatten\n",
        "from keras.applications.vgg16 import VGG16\n",
        "from keras.callbacks import ModelCheckpoint, History\n",
        "from tensorflow.keras.utils import to_categorical\n",
        "from tensorflow.keras.preprocessing.image import ImageDataGenerator, array_to_img, img_to_array, load_img\n",
        "from keras.regularizers import l2, l1\n",
        "from tensorflow.keras.layers import Input # Import Input\n",
        "\n",
        "# ... (Your other functions and code) ...\n",
        "\n",
        "def finetune_categorical_model():\n",
        "    input_tensor = Input(shape=(256,256,3))\n",
        "    base_model = VGG16(weights='imagenet',include_top= False,input_tensor=input_tensor)\n",
        "    print(\"Model loaded.\")\n",
        "    top_model = Sequential()\n",
        "    top_model.add(Flatten(input_shape=base_model.output_shape[1:]))\n",
        "    top_model.add(Dense(256, activation='relu'))\n",
        "    top_model.add(Dropout(0.5))\n",
        "    top_model.add(Dense(3, activation='softmax'))\n",
        "\n",
        "    # Load the weights using the correct path and extension (.h5)\n",
        "    top_model.load_weights(location + '/top_model_weights.h5')\n",
        "\n",
        "    # ... (rest of your finetune_categorical_model function) ..."
      ],
      "metadata": {
        "id": "tQRbOKuBSt8g"
      },
      "execution_count": null,
      "outputs": []
    },
    {
      "cell_type": "markdown",
      "source": [
        "input_tensor = Input(shape=(256,256,3)): Defines the input shape for the model, expecting 256x256 RGB images.\n",
        "base_model = VGG16(weights='imagenet',include_top= False,input_tensor=input_tensor): Loads the pre-trained VGG16 model with weights learned from the ImageNet dataset. include_top=False excludes VGG16's classification layers.\n",
        "print(\"Model loaded.\"): A simple message indicating the model is loaded.\n",
        "top_model = Sequential(): Creates a new sequential model, which will be stacked on top of VGG16.\n",
        "top_model.add(...): Adds layers to the top_model:\n",
        "Flatten: Flattens the output from VGG16.\n",
        "Dense(256, activation='relu'): A fully connected layer with 256 neurons and ReLU activation.\n",
        "Dropout(0.5): A dropout layer to prevent overfitting.\n",
        "Dense(3, activation='softmax'): The output layer with 3 neurons (for 3 damage categories) and softmax activation for probability distribution.\n",
        "Checking for Weights:\n",
        "`weights_path = location + '/top_model_"
      ],
      "metadata": {
        "id": "rqx-bVVrYJY8"
      }
    },
    {
      "cell_type": "code",
      "source": [
        "import os\n",
        "import urllib.request\n",
        "import h5py\n",
        "import json\n",
        "import numpy as np\n",
        "import pandas as pd\n",
        "import seaborn as sns\n",
        "import matplotlib.pyplot as plt\n",
        "from collections import Counter\n",
        "from IPython.display import Image, display, clear_output\n",
        "from sklearn.metrics import classification_report, confusion_matrix\n",
        "\n",
        "%matplotlib inline\n",
        "sns.set_style('whitegrid')\n",
        "\n",
        "from keras import optimizers\n",
        "from keras.models import Sequential, load_model, Model\n",
        "from keras.layers import Convolution2D, MaxPooling2D, ZeroPadding2D, Activation, Dense, Dropout, Flatten\n",
        "from keras.applications.vgg16 import VGG16\n",
        "from keras.callbacks import ModelCheckpoint, History\n",
        "from tensorflow.keras.utils import to_categorical\n",
        "from tensorflow.keras.preprocessing.image import ImageDataGenerator, array_to_img, img_to_array, load_img\n",
        "from keras.regularizers import l2, l1\n",
        "from tensorflow.keras.layers import Input # Import Input\n",
        "\n",
        "# ... (Your other functions and code) ...\n",
        "\n",
        "def finetune_categorical_model():\n",
        "    input_tensor = Input(shape=(256,256,3))\n",
        "    base_model = VGG16(weights='imagenet',include_top= False,input_tensor=input_tensor)\n",
        "    print(\"Model loaded.\")\n",
        "    top_model = Sequential()\n",
        "    top_model.add(Flatten(input_shape=base_model.output_shape[1:]))\n",
        "    top_model.add(Dense(256, activation='relu'))\n",
        "    top_model.add(Dropout(0.5))\n",
        "    top_model.add(Dense(3, activation='softmax'))\n",
        "\n",
        "    # Check if the weights file exists before loading\n",
        "    weights_path = location + '/top_model_weights.h5'\n",
        "    if os.path.exists(weights_path):\n",
        "        # Load the weights using the correct path and extension (.h5)\n",
        "        top_model.load_weights(weights_path)\n",
        "    else:\n",
        "        print(f\"Error: Weights file not found at {weights_path}\")\n",
        "        # You might want to handle this error differently, like returning or raising an exception\n",
        "        return None, None  # Returning None for model and history\n",
        "\n",
        "\n",
        "    # ... (rest of your finetune_categorical_model function) ..."
      ],
      "metadata": {
        "id": "Sraa83iLYAL1"
      },
      "execution_count": null,
      "outputs": []
    },
    {
      "cell_type": "markdown",
      "source": [
        "This code trains an initial model, saves its learned weights, and then uses those weights to fine-tune a more powerful, pre-trained model (VGG16). This approach leverages the benefits of transfer learning to improve the accuracy and efficiency of the image classification task."
      ],
      "metadata": {
        "id": "7LZM5-JrXbS_"
      }
    },
    {
      "cell_type": "code",
      "source": [
        "def finetune_categorical_model():\n",
        "    input_tensor = Input(shape=(256,256,3))\n",
        "    base_model = VGG16(weights='imagenet',include_top= False,input_tensor=input_tensor)\n",
        "    print(\"Model loaded.\")\n",
        "    top_model = Sequential()\n",
        "    top_model.add(Flatten(input_shape=base_model.output_shape[1:]))\n",
        "    top_model.add(Dense(256, activation='relu'))\n",
        "    top_model.add(Dropout(0.5))\n",
        "    top_model.add(Dense(3, activation='softmax'))  # Make sure this layer has the correct output shape\n",
        "\n",
        "    # Check if the weights file exists and load if it does\n",
        "    weights_path = location + '/top_model_weights.h5'\n",
        "    if os.path.exists(weights_path):\n",
        "        # Load weights, handling potential shape mismatches\n",
        "        try:\n",
        "            top_model.load_weights(weights_path)\n",
        "        except ValueError as e:\n",
        "            print(f\"Error loading weights: {e}\")\n",
        "            print(\"Possible shape mismatch. Check model architecture or weights file.\")\n",
        "            # Consider using 'by_name=True' and 'skip_mismatch=True' for partial loading\n",
        "            # top_model.load_weights(weights_path, by_name=True, skip_mismatch=True)\n",
        "            return None, None  # Or handle the error differently\n",
        "    else:\n",
        "        print(f\"Error: Weights file not found at {weights_path}\")\n",
        "        return None, None\n",
        "\n",
        "    # ... (rest of your finetune_categorical_model function) ..."
      ],
      "metadata": {
        "id": "PTX1IJkCMOpO"
      },
      "execution_count": null,
      "outputs": []
    },
    {
      "cell_type": "code",
      "source": [
        "# %% [markdown]\n",
        "# # Train the initial model first\n",
        "# This will create the 'top_model_weights.weights.h5' file\n",
        "# %%\n",
        "d3_model, d3_history = train_categorical_model()"
      ],
      "metadata": {
        "colab": {
          "base_uri": "https://localhost:8080/"
        },
        "id": "ZGejRbauOR-U",
        "outputId": "474e461a-3172-45a5-b833-7e994dc47730"
      },
      "execution_count": null,
      "outputs": [
        {
          "output_type": "stream",
          "name": "stderr",
          "text": [
            "/usr/local/lib/python3.10/dist-packages/keras/src/layers/reshaping/flatten.py:37: UserWarning: Do not pass an `input_shape`/`input_dim` argument to a layer. When using Sequential models, prefer using an `Input(shape)` object as the first layer in the model instead.\n",
            "  super().__init__(**kwargs)\n"
          ]
        },
        {
          "output_type": "stream",
          "name": "stdout",
          "text": [
            "Epoch 1/50\n",
            "\u001b[1m114/114\u001b[0m \u001b[32m━━━━━━━━━━━━━━━━━━━━\u001b[0m\u001b[37m\u001b[0m \u001b[1m22s\u001b[0m 181ms/step - accuracy: 0.3438 - loss: 8.3459 - val_accuracy: 0.3326 - val_loss: 1.0988\n",
            "Epoch 2/50\n"
          ]
        },
        {
          "output_type": "stream",
          "name": "stderr",
          "text": [
            "/usr/local/lib/python3.10/dist-packages/keras/src/callbacks/model_checkpoint.py:206: UserWarning: Can save best model only with val_acc available, skipping.\n",
            "  self._save_model(epoch=epoch, batch=None, logs=logs)\n"
          ]
        },
        {
          "output_type": "stream",
          "name": "stdout",
          "text": [
            "\u001b[1m114/114\u001b[0m \u001b[32m━━━━━━━━━━━━━━━━━━━━\u001b[0m\u001b[37m\u001b[0m \u001b[1m40s\u001b[0m 169ms/step - accuracy: 0.3503 - loss: 1.3294 - val_accuracy: 0.3371 - val_loss: 1.0986\n",
            "Epoch 3/50\n",
            "\u001b[1m114/114\u001b[0m \u001b[32m━━━━━━━━━━━━━━━━━━━━\u001b[0m\u001b[37m\u001b[0m \u001b[1m31s\u001b[0m 261ms/step - accuracy: 0.3646 - loss: 1.1504 - val_accuracy: 0.3348 - val_loss: 1.1563\n",
            "Epoch 4/50\n",
            "\u001b[1m114/114\u001b[0m \u001b[32m━━━━━━━━━━━━━━━━━━━━\u001b[0m\u001b[37m\u001b[0m \u001b[1m32s\u001b[0m 182ms/step - accuracy: 0.3425 - loss: 1.1834 - val_accuracy: 0.3304 - val_loss: 1.1130\n",
            "Epoch 5/50\n",
            "\u001b[1m114/114\u001b[0m \u001b[32m━━━━━━━━━━━━━━━━━━━━\u001b[0m\u001b[37m\u001b[0m \u001b[1m39s\u001b[0m 163ms/step - accuracy: 0.3470 - loss: 1.1861 - val_accuracy: 0.3482 - val_loss: 1.1195\n",
            "Epoch 6/50\n",
            "\u001b[1m114/114\u001b[0m \u001b[32m━━━━━━━━━━━━━━━━━━━━\u001b[0m\u001b[37m\u001b[0m \u001b[1m21s\u001b[0m 169ms/step - accuracy: 0.3578 - loss: 1.1314 - val_accuracy: 0.3170 - val_loss: 1.1089\n",
            "Epoch 7/50\n",
            "\u001b[1m114/114\u001b[0m \u001b[32m━━━━━━━━━━━━━━━━━━━━\u001b[0m\u001b[37m\u001b[0m \u001b[1m19s\u001b[0m 163ms/step - accuracy: 0.3923 - loss: 1.1096 - val_accuracy: 0.3103 - val_loss: 1.1005\n",
            "Epoch 8/50\n",
            "\u001b[1m114/114\u001b[0m \u001b[32m━━━━━━━━━━━━━━━━━━━━\u001b[0m\u001b[37m\u001b[0m \u001b[1m21s\u001b[0m 164ms/step - accuracy: 0.3841 - loss: 1.1199 - val_accuracy: 0.3348 - val_loss: 1.1020\n",
            "Epoch 9/50\n",
            "\u001b[1m114/114\u001b[0m \u001b[32m━━━━━━━━━━━━━━━━━━━━\u001b[0m\u001b[37m\u001b[0m \u001b[1m19s\u001b[0m 167ms/step - accuracy: 0.4079 - loss: 1.0927 - val_accuracy: 0.3460 - val_loss: 1.1829\n",
            "Epoch 10/50\n",
            "\u001b[1m114/114\u001b[0m \u001b[32m━━━━━━━━━━━━━━━━━━━━\u001b[0m\u001b[37m\u001b[0m \u001b[1m20s\u001b[0m 173ms/step - accuracy: 0.4060 - loss: 1.1248 - val_accuracy: 0.3259 - val_loss: 1.2835\n",
            "Epoch 11/50\n",
            "\u001b[1m114/114\u001b[0m \u001b[32m━━━━━━━━━━━━━━━━━━━━\u001b[0m\u001b[37m\u001b[0m \u001b[1m19s\u001b[0m 163ms/step - accuracy: 0.4297 - loss: 1.0673 - val_accuracy: 0.3259 - val_loss: 1.1485\n",
            "Epoch 12/50\n",
            "\u001b[1m114/114\u001b[0m \u001b[32m━━━━━━━━━━━━━━━━━━━━\u001b[0m\u001b[37m\u001b[0m \u001b[1m20s\u001b[0m 161ms/step - accuracy: 0.4481 - loss: 1.0565 - val_accuracy: 0.3438 - val_loss: 1.1199\n",
            "Epoch 13/50\n",
            "\u001b[1m114/114\u001b[0m \u001b[32m━━━━━━━━━━━━━━━━━━━━\u001b[0m\u001b[37m\u001b[0m \u001b[1m19s\u001b[0m 164ms/step - accuracy: 0.4722 - loss: 1.0178 - val_accuracy: 0.3393 - val_loss: 1.2508\n",
            "Epoch 14/50\n",
            "\u001b[1m114/114\u001b[0m \u001b[32m━━━━━━━━━━━━━━━━━━━━\u001b[0m\u001b[37m\u001b[0m \u001b[1m21s\u001b[0m 169ms/step - accuracy: 0.4640 - loss: 1.0781 - val_accuracy: 0.3237 - val_loss: 1.1560\n",
            "Epoch 15/50\n",
            "\u001b[1m114/114\u001b[0m \u001b[32m━━━━━━━━━━━━━━━━━━━━\u001b[0m\u001b[37m\u001b[0m \u001b[1m19s\u001b[0m 163ms/step - accuracy: 0.5215 - loss: 0.9986 - val_accuracy: 0.3237 - val_loss: 1.2303\n",
            "Epoch 16/50\n",
            "\u001b[1m114/114\u001b[0m \u001b[32m━━━━━━━━━━━━━━━━━━━━\u001b[0m\u001b[37m\u001b[0m \u001b[1m20s\u001b[0m 161ms/step - accuracy: 0.5500 - loss: 0.9519 - val_accuracy: 0.2924 - val_loss: 1.3314\n",
            "Epoch 17/50\n",
            "\u001b[1m114/114\u001b[0m \u001b[32m━━━━━━━━━━━━━━━━━━━━\u001b[0m\u001b[37m\u001b[0m \u001b[1m21s\u001b[0m 169ms/step - accuracy: 0.5434 - loss: 0.9318 - val_accuracy: 0.3348 - val_loss: 1.6373\n",
            "Epoch 18/50\n",
            "\u001b[1m114/114\u001b[0m \u001b[32m━━━━━━━━━━━━━━━━━━━━\u001b[0m\u001b[37m\u001b[0m \u001b[1m20s\u001b[0m 164ms/step - accuracy: 0.5772 - loss: 0.8737 - val_accuracy: 0.3348 - val_loss: 1.2223\n",
            "Epoch 19/50\n",
            "\u001b[1m114/114\u001b[0m \u001b[32m━━━━━━━━━━━━━━━━━━━━\u001b[0m\u001b[37m\u001b[0m \u001b[1m18s\u001b[0m 162ms/step - accuracy: 0.6259 - loss: 0.7939 - val_accuracy: 0.3728 - val_loss: 1.3170\n",
            "Epoch 20/50\n",
            "\u001b[1m114/114\u001b[0m \u001b[32m━━━━━━━━━━━━━━━━━━━━\u001b[0m\u001b[37m\u001b[0m \u001b[1m22s\u001b[0m 175ms/step - accuracy: 0.5892 - loss: 0.8918 - val_accuracy: 0.3482 - val_loss: 1.3372\n",
            "Epoch 21/50\n",
            "\u001b[1m114/114\u001b[0m \u001b[32m━━━━━━━━━━━━━━━━━━━━\u001b[0m\u001b[37m\u001b[0m \u001b[1m19s\u001b[0m 163ms/step - accuracy: 0.6220 - loss: 0.8220 - val_accuracy: 0.3304 - val_loss: 1.2403\n",
            "Epoch 22/50\n",
            "\u001b[1m114/114\u001b[0m \u001b[32m━━━━━━━━━━━━━━━━━━━━\u001b[0m\u001b[37m\u001b[0m \u001b[1m21s\u001b[0m 170ms/step - accuracy: 0.6515 - loss: 0.7425 - val_accuracy: 0.3281 - val_loss: 1.6341\n",
            "Epoch 23/50\n",
            "\u001b[1m114/114\u001b[0m \u001b[32m━━━━━━━━━━━━━━━━━━━━\u001b[0m\u001b[37m\u001b[0m \u001b[1m30s\u001b[0m 251ms/step - accuracy: 0.6442 - loss: 0.7376 - val_accuracy: 0.3817 - val_loss: 1.3010\n",
            "Epoch 24/50\n",
            "\u001b[1m114/114\u001b[0m \u001b[32m━━━━━━━━━━━━━━━━━━━━\u001b[0m\u001b[37m\u001b[0m \u001b[1m18s\u001b[0m 158ms/step - accuracy: 0.6626 - loss: 0.6904 - val_accuracy: 0.3616 - val_loss: 1.5440\n",
            "Epoch 25/50\n",
            "\u001b[1m114/114\u001b[0m \u001b[32m━━━━━━━━━━━━━━━━━━━━\u001b[0m\u001b[37m\u001b[0m \u001b[1m18s\u001b[0m 160ms/step - accuracy: 0.6905 - loss: 0.6651 - val_accuracy: 0.3482 - val_loss: 1.3951\n",
            "Epoch 26/50\n",
            "\u001b[1m114/114\u001b[0m \u001b[32m━━━━━━━━━━━━━━━━━━━━\u001b[0m\u001b[37m\u001b[0m \u001b[1m21s\u001b[0m 163ms/step - accuracy: 0.6977 - loss: 0.6622 - val_accuracy: 0.3594 - val_loss: 1.3095\n",
            "Epoch 27/50\n",
            "\u001b[1m114/114\u001b[0m \u001b[32m━━━━━━━━━━━━━━━━━━━━\u001b[0m\u001b[37m\u001b[0m \u001b[1m18s\u001b[0m 159ms/step - accuracy: 0.6879 - loss: 0.6343 - val_accuracy: 0.3772 - val_loss: 1.4006\n",
            "Epoch 28/50\n",
            "\u001b[1m114/114\u001b[0m \u001b[32m━━━━━━━━━━━━━━━━━━━━\u001b[0m\u001b[37m\u001b[0m \u001b[1m18s\u001b[0m 162ms/step - accuracy: 0.7233 - loss: 0.6694 - val_accuracy: 0.3594 - val_loss: 1.3369\n",
            "Epoch 29/50\n",
            "\u001b[1m114/114\u001b[0m \u001b[32m━━━━━━━━━━━━━━━━━━━━\u001b[0m\u001b[37m\u001b[0m \u001b[1m18s\u001b[0m 160ms/step - accuracy: 0.7154 - loss: 0.6331 - val_accuracy: 0.3549 - val_loss: 1.6530\n",
            "Epoch 30/50\n",
            "\u001b[1m114/114\u001b[0m \u001b[32m━━━━━━━━━━━━━━━━━━━━\u001b[0m\u001b[37m\u001b[0m \u001b[1m22s\u001b[0m 170ms/step - accuracy: 0.7293 - loss: 0.6002 - val_accuracy: 0.3549 - val_loss: 1.9506\n",
            "Epoch 31/50\n",
            "\u001b[1m114/114\u001b[0m \u001b[32m━━━━━━━━━━━━━━━━━━━━\u001b[0m\u001b[37m\u001b[0m \u001b[1m19s\u001b[0m 160ms/step - accuracy: 0.6994 - loss: 0.6898 - val_accuracy: 0.3504 - val_loss: 2.0754\n",
            "Epoch 32/50\n",
            "\u001b[1m114/114\u001b[0m \u001b[32m━━━━━━━━━━━━━━━━━━━━\u001b[0m\u001b[37m\u001b[0m \u001b[1m34s\u001b[0m 279ms/step - accuracy: 0.7231 - loss: 0.5960 - val_accuracy: 0.3504 - val_loss: 1.5483\n",
            "Epoch 33/50\n",
            "\u001b[1m114/114\u001b[0m \u001b[32m━━━━━━━━━━━━━━━━━━━━\u001b[0m\u001b[37m\u001b[0m \u001b[1m28s\u001b[0m 167ms/step - accuracy: 0.7270 - loss: 0.5842 - val_accuracy: 0.3527 - val_loss: 1.4816\n",
            "Epoch 34/50\n",
            "\u001b[1m114/114\u001b[0m \u001b[32m━━━━━━━━━━━━━━━━━━━━\u001b[0m\u001b[37m\u001b[0m \u001b[1m20s\u001b[0m 162ms/step - accuracy: 0.7106 - loss: 0.6188 - val_accuracy: 0.3549 - val_loss: 1.6090\n",
            "Epoch 35/50\n",
            "\u001b[1m114/114\u001b[0m \u001b[32m━━━━━━━━━━━━━━━━━━━━\u001b[0m\u001b[37m\u001b[0m \u001b[1m20s\u001b[0m 161ms/step - accuracy: 0.7714 - loss: 0.5315 - val_accuracy: 0.3683 - val_loss: 2.3041\n",
            "Epoch 36/50\n",
            "\u001b[1m114/114\u001b[0m \u001b[32m━━━━━━━━━━━━━━━━━━━━\u001b[0m\u001b[37m\u001b[0m \u001b[1m21s\u001b[0m 167ms/step - accuracy: 0.7426 - loss: 0.5360 - val_accuracy: 0.3906 - val_loss: 1.7480\n",
            "Epoch 37/50\n",
            "\u001b[1m114/114\u001b[0m \u001b[32m━━━━━━━━━━━━━━━━━━━━\u001b[0m\u001b[37m\u001b[0m \u001b[1m20s\u001b[0m 164ms/step - accuracy: 0.7581 - loss: 0.5552 - val_accuracy: 0.3705 - val_loss: 1.7218\n",
            "Epoch 38/50\n",
            "\u001b[1m114/114\u001b[0m \u001b[32m━━━━━━━━━━━━━━━━━━━━\u001b[0m\u001b[37m\u001b[0m \u001b[1m20s\u001b[0m 160ms/step - accuracy: 0.7574 - loss: 0.5616 - val_accuracy: 0.3750 - val_loss: 2.0737\n",
            "Epoch 39/50\n",
            "\u001b[1m114/114\u001b[0m \u001b[32m━━━━━━━━━━━━━━━━━━━━\u001b[0m\u001b[37m\u001b[0m \u001b[1m21s\u001b[0m 168ms/step - accuracy: 0.7887 - loss: 0.5080 - val_accuracy: 0.3705 - val_loss: 1.7646\n",
            "Epoch 40/50\n",
            "\u001b[1m114/114\u001b[0m \u001b[32m━━━━━━━━━━━━━━━━━━━━\u001b[0m\u001b[37m\u001b[0m \u001b[1m19s\u001b[0m 160ms/step - accuracy: 0.7875 - loss: 0.5320 - val_accuracy: 0.3594 - val_loss: 1.6245\n",
            "Epoch 41/50\n",
            "\u001b[1m114/114\u001b[0m \u001b[32m━━━━━━━━━━━━━━━━━━━━\u001b[0m\u001b[37m\u001b[0m \u001b[1m21s\u001b[0m 163ms/step - accuracy: 0.7666 - loss: 0.5347 - val_accuracy: 0.3504 - val_loss: 1.8630\n",
            "Epoch 42/50\n",
            "\u001b[1m114/114\u001b[0m \u001b[32m━━━━━━━━━━━━━━━━━━━━\u001b[0m\u001b[37m\u001b[0m \u001b[1m21s\u001b[0m 172ms/step - accuracy: 0.7696 - loss: 0.4815 - val_accuracy: 0.3839 - val_loss: 1.9240\n",
            "Epoch 43/50\n",
            "\u001b[1m114/114\u001b[0m \u001b[32m━━━━━━━━━━━━━━━━━━━━\u001b[0m\u001b[37m\u001b[0m \u001b[1m19s\u001b[0m 163ms/step - accuracy: 0.7795 - loss: 0.4660 - val_accuracy: 0.3750 - val_loss: 1.6236\n",
            "Epoch 44/50\n",
            "\u001b[1m114/114\u001b[0m \u001b[32m━━━━━━━━━━━━━━━━━━━━\u001b[0m\u001b[37m\u001b[0m \u001b[1m20s\u001b[0m 162ms/step - accuracy: 0.7764 - loss: 0.4917 - val_accuracy: 0.3728 - val_loss: 1.9380\n",
            "Epoch 45/50\n",
            "\u001b[1m114/114\u001b[0m \u001b[32m━━━━━━━━━━━━━━━━━━━━\u001b[0m\u001b[37m\u001b[0m \u001b[1m22s\u001b[0m 172ms/step - accuracy: 0.7920 - loss: 0.4972 - val_accuracy: 0.3415 - val_loss: 2.2527\n",
            "Epoch 46/50\n",
            "\u001b[1m114/114\u001b[0m \u001b[32m━━━━━━━━━━━━━━━━━━━━\u001b[0m\u001b[37m\u001b[0m \u001b[1m18s\u001b[0m 162ms/step - accuracy: 0.8139 - loss: 0.4415 - val_accuracy: 0.3862 - val_loss: 1.9464\n",
            "Epoch 47/50\n",
            "\u001b[1m114/114\u001b[0m \u001b[32m━━━━━━━━━━━━━━━━━━━━\u001b[0m\u001b[37m\u001b[0m \u001b[1m21s\u001b[0m 162ms/step - accuracy: 0.8045 - loss: 0.4352 - val_accuracy: 0.3527 - val_loss: 1.9030\n",
            "Epoch 48/50\n",
            "\u001b[1m114/114\u001b[0m \u001b[32m━━━━━━━━━━━━━━━━━━━━\u001b[0m\u001b[37m\u001b[0m \u001b[1m19s\u001b[0m 165ms/step - accuracy: 0.7933 - loss: 0.4610 - val_accuracy: 0.3549 - val_loss: 2.0240\n",
            "Epoch 49/50\n",
            "\u001b[1m114/114\u001b[0m \u001b[32m━━━━━━━━━━━━━━━━━━━━\u001b[0m\u001b[37m\u001b[0m \u001b[1m21s\u001b[0m 165ms/step - accuracy: 0.8062 - loss: 0.4412 - val_accuracy: 0.3460 - val_loss: 2.0810\n",
            "Epoch 50/50\n",
            "\u001b[1m114/114\u001b[0m \u001b[32m━━━━━━━━━━━━━━━━━━━━\u001b[0m\u001b[37m\u001b[0m \u001b[1m20s\u001b[0m 162ms/step - accuracy: 0.7934 - loss: 0.4803 - val_accuracy: 0.3638 - val_loss: 2.2704\n"
          ]
        }
      ]
    },
    {
      "cell_type": "code",
      "source": [
        "ft_model, ft_history = finetune_categorical_model()"
      ],
      "metadata": {
        "colab": {
          "base_uri": "https://localhost:8080/"
        },
        "id": "Mk1Bfs_jMeaz",
        "outputId": "19017c79-d9ab-46c9-d952-846abf8ae8bd"
      },
      "execution_count": null,
      "outputs": [
        {
          "output_type": "stream",
          "name": "stdout",
          "text": [
            "Model loaded.\n",
            "Error loading weights: The shape of the target variable and the shape of the target value in `variable.assign(value)` must match. variable.shape=(256, 3), Received: value.shape=(256, 1). Target variable: <KerasVariable shape=(256, 3), dtype=float32, path=sequential_4/dense_9/kernel>\n",
            "Possible shape mismatch. Check model architecture or weights file.\n"
          ]
        }
      ]
    },
    {
      "cell_type": "markdown",
      "source": [
        "This section of code is designed to load a pre-trained, fine-tuned model if it exists. This is a common practice in machine learning to save time and resources, as training a model can be computationally expensive."
      ],
      "metadata": {
        "id": "FRIWnZZFdaPJ"
      }
    },
    {
      "cell_type": "code",
      "source": [
        "# If you want to load the fine-tuned model:\n",
        "# Check if the fine-tuned model file exists\n",
        "if os.path.exists(fine_tuned_model_path):\n",
        "    ft_model = load_model(fine_tuned_model_path)  # Assuming fine_tuned_model_path is defined correctly\n",
        "else:\n",
        "    print(f\"Error: Fine-tuned model file not found at {fine_tuned_model_path}\")\n",
        "    # You might want to handle this error differently, like retraining the model\n",
        "    # or loading a different model."
      ],
      "metadata": {
        "colab": {
          "base_uri": "https://localhost:8080/"
        },
        "id": "8BiMIedgdVtZ",
        "outputId": "2c7141da-ef9f-4530-b5c4-63a90d0c3a32"
      },
      "execution_count": null,
      "outputs": [
        {
          "output_type": "stream",
          "name": "stdout",
          "text": [
            "Error: Fine-tuned model file not found at /content/drive/MyDrive/data2/ft_model.h5\n"
          ]
        }
      ]
    },
    {
      "cell_type": "markdown",
      "source": [
        "This code is designed to load a pre-trained model if it exists, avoiding the need for retraining. This is important because training a machine learning model can be time-consuming and computationally expensive."
      ],
      "metadata": {
        "id": "AxPaoYjTo5td"
      }
    },
    {
      "cell_type": "code",
      "source": [
        "# If you want to load the fine-tuned model:\n",
        "# Check if the fine-tuned model file exists\n",
        "if os.path.exists(fine_tuned_model_path):\n",
        "    ft_model = load_model(fine_tuned_model_path)  # Assuming fine_tuned_model_path is defined correctly\n",
        "else:\n",
        "    print(f\"Error: Fine-tuned model file not found at {fine_tuned_model_path}\")\n",
        "    # You might want to handle this error differently, like retraining the model\n",
        "    # or loading a different model."
      ],
      "metadata": {
        "colab": {
          "base_uri": "https://localhost:8080/"
        },
        "id": "d5nC1ICAeV8s",
        "outputId": "2e70e16f-d7bb-442a-cadf-6e2039ce9718"
      },
      "execution_count": null,
      "outputs": [
        {
          "output_type": "stream",
          "name": "stdout",
          "text": [
            "Error: Fine-tuned model file not found at /content/drive/MyDrive/data2/ft_model.h5\n"
          ]
        }
      ]
    },
    {
      "cell_type": "markdown",
      "source": [
        "Loading a pre-trained model saves a lot of time and computing power. Instead of retraining the model from scratch, which can take hours or even days, you can simply load the existing one and use it immediately for making predictions or further fine-tuning."
      ],
      "metadata": {
        "id": "-tWQEx0fpHG3"
      }
    },
    {
      "cell_type": "code",
      "source": [
        "import os\n",
        "# ... other imports ...\n",
        "\n",
        "# Assuming 'location' is defined as '/content/drive/MyDrive/data2'\n",
        "fine_tuned_model_path = os.path.join(location, 'ft_model.h5')\n",
        "\n",
        "# Check if the file exists before trying to load it\n",
        "if os.path.exists(fine_tuned_model_path):\n",
        "    ft_model = load_model(fine_tuned_model_path)\n",
        "else:\n",
        "    print(f\"Error: Fine-tuned model file not found at {fine_tuned_model_path}\")\n",
        "    # Either retrain the model or handle the error appropriately\n",
        "    # For example, you could train a new model:\n",
        "    # ft_model, ft_history = finetune_categorical_model()\n",
        "    # or raise an exception to stop execution\n",
        "    # raise FileNotFoundError(f\"Model file not found: {fine_tuned_model_path}\")"
      ],
      "metadata": {
        "colab": {
          "base_uri": "https://localhost:8080/"
        },
        "id": "By_5lO-0iJWO",
        "outputId": "343f831d-ee3a-41a1-e380-dede60563a7f"
      },
      "execution_count": null,
      "outputs": [
        {
          "output_type": "stream",
          "name": "stdout",
          "text": [
            "Error: Fine-tuned model file not found at /content/drive/MyDrive/data2/ft_model.h5\n"
          ]
        }
      ]
    },
    {
      "cell_type": "markdown",
      "source": [
        "This code is creating an array called validation_labels which will likely be used to evaluate the performance of the image classification model"
      ],
      "metadata": {
        "id": "BLTF7PmUpPn-"
      }
    },
    {
      "cell_type": "code",
      "source": [
        "validation_labels = np.array([0] * validation_samples[0] +\n",
        "                             [1] * validation_samples[1])"
      ],
      "metadata": {
        "id": "fht4ZivTiSpN"
      },
      "execution_count": null,
      "outputs": []
    },
    {
      "cell_type": "markdown",
      "source": [
        "This line of code is using a validation dataset to test the performance of a fine-tuned model and saving the results for analysis. The confusion matrix (cm) that is generated will provide insights into the types of errors the model makes, helping the user understand where it might need improvement."
      ],
      "metadata": {
        "id": "3ggOQPtHpU_S"
      }
    },
    {
      "cell_type": "code",
      "source": [
        "def evaluate_categorical_model(model, directory, labels):\n",
        "    datagen = ImageDataGenerator(rescale=1./255)\n",
        "\n",
        "    generator = datagen.flow_from_directory(directory, target_size=(img_height,img_width), batch_size=batch_size, class_mode='categorical', shuffle=False)\n",
        "\n",
        "    # Use predict with steps argument instead of predict_generator\n",
        "    predictions = model.predict(generator, steps=len(labels) // batch_size + (len(labels) % batch_size > 0))\n",
        "\n",
        "    pred_labels = [0 if i<0.5 else 1 for i in predictions]\n",
        "\n",
        "    print('')\n",
        "    print(classification_report(validation_labels, pred_labels))\n",
        "    print('')\n",
        "    cm = confusion_matrix(validation_labels, pred_labels)\n",
        "    return cm"
      ],
      "metadata": {
        "id": "zJLAtlwyihcF"
      },
      "execution_count": null,
      "outputs": []
    },
    {
      "cell_type": "markdown",
      "source": [
        "# Path 3"
      ],
      "metadata": {
        "id": "2os46SpnimYJ"
      }
    },
    {
      "cell_type": "markdown",
      "source": [
        "This function is designed to take an image path and a trained model as input, and then predict the location of damage in the image (Front, Rear, or Side)."
      ],
      "metadata": {
        "id": "il4JTP5NpeF7"
      }
    },
    {
      "cell_type": "code",
      "source": [
        "def path3(image_path, model):\n",
        "    urllib.request.urlretrieve(image_path, 'save.jpg')\n",
        "    img = load_img('save.jpg', target_size=(256,256))\n",
        "    x = img_to_array(img)\n",
        "    x = x.reshape((1,)+x.shape)/255\n",
        "    pred = model.predict(x)\n",
        "    pred_labels = np.argmax(pred, axis=1)\n",
        "    d = {0:'Front', 1:'Rear', 2:'Side'}\n",
        "    for key in d.keys():\n",
        "        if pred_labels[0] == key:\n",
        "            print(\"Validating location of damage....Result:\",d[key])\n",
        "    print(\"Severity assessment complete.\")"
      ],
      "metadata": {
        "id": "cgz-yBJMirRj"
      },
      "execution_count": null,
      "outputs": []
    },
    {
      "cell_type": "markdown",
      "source": [
        "This line of code is using the Image function (likely from the IPython.display library, which was imported earlier in the notebook) to display an image within the Jupyter notebook."
      ],
      "metadata": {
        "id": "KKgxzbF0UUZl"
      }
    },
    {
      "cell_type": "code",
      "source": [
        "Image('http://www.copartdirect.com/content/2007-kia-rio-front-end-damage.jpg')"
      ],
      "metadata": {
        "colab": {
          "base_uri": "https://localhost:8080/",
          "height": 34
        },
        "id": "ZlLYxsqHjLkc",
        "outputId": "352202fc-5684-498d-fee4-05ada785fc0a"
      },
      "execution_count": null,
      "outputs": [
        {
          "output_type": "execute_result",
          "data": {
            "image/jpeg": "[encoded data removed]",
            "text/plain": [
              "<IPython.core.display.Image object>"
            ]
          },
          "metadata": {},
          "execution_count": 45
        }
      ]
    },
    {
      "cell_type": "markdown",
      "source": [
        " This code is primarily about displaying an image from a URL within a Jupyter notebook. It has a built-in mechanism to handle a common issue where websites might block direct image access, ensuring the image is displayed correctly"
      ],
      "metadata": {
        "id": "XWx4h4XLUOJ3"
      }
    },
    {
      "cell_type": "code",
      "source": [
        "!pip install requests\n",
        "\n",
        "from IPython.display import Image, display\n",
        "import requests\n",
        "import io\n",
        "\n",
        "def display_image_from_url(url):\n",
        "    \"\"\"\n",
        "    Displays an image from a URL using IPython.display.Image.\n",
        "\n",
        "    Handles HTTPError 403 by using the 'requests' library\n",
        "    to fetch the image with a user agent header.\n",
        "\n",
        "    Args:\n",
        "        url: The URL of the image to display.\n",
        "    \"\"\"\n",
        "    try:\n",
        "        # Try loading the image directly using IPython.display.Image\n",
        "        display(Image(url=url))\n",
        "    except urllib.error.HTTPError as e:\n",
        "        if e.code == 403:\n",
        "            # If HTTPError 403 (Forbidden) is encountered:\n",
        "            print(\"Using requests to bypass 403 error...\")\n",
        "            # Use requests to fetch the image with a user agent header\n",
        "            headers = {'User-Agent': 'Mozilla/5.0'}\n",
        "            response = requests.get(url, headers=headers)\n",
        "            response.raise_for_status()  # Raise an exception for bad responses\n",
        "            image_data = io.BytesIO(response.content)\n",
        "            # Display the image using IPython.display.Image\n",
        "            display(Image(data=image_data.getvalue()))\n",
        "        else:\n",
        "            # If it's a different HTTP error, re-raise it\n",
        "            raise e\n",
        "\n",
        "# Replace the original Image call with:\n",
        "display_image_from_url('http://drndata.com/wp-content/uploads/2016/03/car.jpg')"
      ],
      "metadata": {
        "colab": {
          "base_uri": "https://localhost:8080/",
          "height": 468
        },
        "id": "YfW0kty6jscn",
        "outputId": "e097a8d1-1c3a-4088-e526-6cab41c713a7"
      },
      "execution_count": null,
      "outputs": [
        {
          "output_type": "stream",
          "name": "stdout",
          "text": [
            "Requirement already satisfied: requests in /usr/local/lib/python3.10/dist-packages (2.32.3)\n",
            "Requirement already satisfied: charset-normalizer<4,>=2 in /usr/local/lib/python3.10/dist-packages (from requests) (3.4.0)\n",
            "Requirement already satisfied: idna<4,>=2.5 in /usr/local/lib/python3.10/dist-packages (from requests) (3.10)\n",
            "Requirement already satisfied: urllib3<3,>=1.21.1 in /usr/local/lib/python3.10/dist-packages (from requests) (2.2.3)\n",
            "Requirement already satisfied: certifi>=2017.4.17 in /usr/local/lib/python3.10/dist-packages (from requests) (2024.8.30)\n"
          ]
        },
        {
          "output_type": "display_data",
          "data": {
            "text/html": [
              "<img src=\"http://drndata.com/wp-content/uploads/2016/03/car.jpg\"/>"
            ],
            "text/plain": [
              "<IPython.core.display.Image object>"
            ]
          },
          "metadata": {}
        }
      ]
    },
    {
      "cell_type": "markdown",
      "source": [
        "Function Definition:\n",
        "\n",
        "def path3(image_path, model): defines a function named path3 that takes two arguments:\n",
        "image_path: A string containing the URL or local file path of the image.\n",
        "model: The trained machine learning model that will be used to predict the damage location.\n",
        "Downloading and Preparing the Image:\n",
        "\n",
        "response = requests.get(...): Fetches the image from the provided image_path using the requests library. The stream=True argument is for efficient handling of large images, and headers is used to mimic a web browser.\n",
        "response.raise_for_status(): Checks if the download was successful. If there was an HTTP error (like a 404 Not Found), it will raise an exception.\n",
        "image = Image.open(...): Opens the downloaded image data using Pillow's Image.open.\n",
        "image = image.resize((256, 256)): Resizes the image to 256x256 pixels. This is likely required because the trained model expects images of this specific size.\n",
        "x = img_to_array(image): Converts the Pillow image object into a NumPy array suitable for use with the machine learning model.\n",
        "x = x.reshape((1,) + x.shape) / 255: Reshapes the array and normalizes its pixel values to be between 0 and 1. This is a standard preprocessing step for many image classification models.\n",
        "Damage Location Prediction:\n",
        "\n",
        "pred = model.predict(x): This is where the magic happens! The pre-trained model is used to make a prediction on the prepared image data (x). The output pred will contain the model's prediction probabilities for each damage location category.\n",
        "pred_labels = np.argmax(pred, axis=1): Extracts the predicted damage location label (0, 1, or 2) by finding the index with the highest probability in the pred array."
      ],
      "metadata": {
        "id": "pxXciUolUBmW"
      }
    },
    {
      "cell_type": "code",
      "source": [
        "!pip install requests\n",
        "\n",
        "import requests\n",
        "import io\n",
        "from PIL import Image\n",
        "\n",
        "def path3(image_path, model):\n",
        "    \"\"\"\n",
        "    Predicts the damage location in an image.\n",
        "\n",
        "    Args:\n",
        "        image_path: The URL or local path of the image.\n",
        "        model: The trained model to use for prediction.\n",
        "\n",
        "    Prints:\n",
        "        The predicted damage location.\n",
        "    \"\"\"\n",
        "    try:\n",
        "        # Try loading the image directly\n",
        "        response = requests.get(image_path, stream=True, headers={'User-Agent': 'Mozilla/5.0'})\n",
        "        response.raise_for_status()  # Raise HTTPError for bad responses (4xx or 5xx)\n",
        "\n",
        "        image = Image.open(io.BytesIO(response.content)).convert(\"RGB\")\n",
        "        image = image.resize((256, 256))  # Resize to match model input\n",
        "        x = img_to_array(image)\n",
        "        x = x.reshape((1,) + x.shape) / 255  # Reshape and normalize\n",
        "    except requests.exceptions.RequestException as e:\n",
        "        print(f\"Error fetching image: {e}\")\n",
        "        return\n",
        "\n",
        "    pred = model.predict(x)\n",
        "    pred_labels = np.argmax(pred, axis=1)\n",
        "    d = {0: 'Front', 1: 'Rear', 2: 'Side'}\n",
        "    for key in d.keys():\n",
        "        if pred_labels[0] == key:\n",
        "            print(\"Validating location of damage....Result:\", d[key])\n",
        "    print(\"Severity assessment complete.\")"
      ],
      "metadata": {
        "colab": {
          "base_uri": "https://localhost:8080/"
        },
        "id": "ZG5AoECOjzOy",
        "outputId": "fbe746dc-3b77-4ae2-af45-b7a2dffe5ae1"
      },
      "execution_count": null,
      "outputs": [
        {
          "output_type": "stream",
          "name": "stdout",
          "text": [
            "Requirement already satisfied: requests in /usr/local/lib/python3.10/dist-packages (2.32.3)\n",
            "Requirement already satisfied: charset-normalizer<4,>=2 in /usr/local/lib/python3.10/dist-packages (from requests) (3.4.0)\n",
            "Requirement already satisfied: idna<4,>=2.5 in /usr/local/lib/python3.10/dist-packages (from requests) (3.10)\n",
            "Requirement already satisfied: urllib3<3,>=1.21.1 in /usr/local/lib/python3.10/dist-packages (from requests) (2.2.3)\n",
            "Requirement already satisfied: certifi>=2017.4.17 in /usr/local/lib/python3.10/dist-packages (from requests) (2024.8.30)\n"
          ]
        }
      ]
    },
    {
      "cell_type": "markdown",
      "source": [
        "This code is telling the notebook to fetch an image from a website (the provided URL) and show it directly in the notebook's output."
      ],
      "metadata": {
        "id": "8gokaZ2DTsIT"
      }
    },
    {
      "cell_type": "code",
      "source": [
        "from IPython.display import Image  # Import the Image class\n",
        "\n",
        "# Now you can use the Image class to display the image:\n",
        "Image(url='http://repairablecars-forsale.com/photos/Exotic_Wrecked_Cars_F430_Spider_Red_Ferrari.jpg')"
      ],
      "metadata": {
        "colab": {
          "base_uri": "https://localhost:8080/",
          "height": 502
        },
        "id": "VY4XM6qbj36C",
        "outputId": "6f5b22e2-58af-4cfc-f31b-2bdab0b6ec56"
      },
      "execution_count": null,
      "outputs": [
        {
          "output_type": "execute_result",
          "data": {
            "text/html": [
              "<img src=\"http://repairablecars-forsale.com/photos/Exotic_Wrecked_Cars_F430_Spider_Red_Ferrari.jpg\"/>"
            ],
            "text/plain": [
              "<IPython.core.display.Image object>"
            ]
          },
          "metadata": {},
          "execution_count": 51
        }
      ]
    },
    {
      "cell_type": "markdown",
      "source": [
        " It defines a function called path3 that aims to predict the location of damage in a car image (front, rear, or side) using a trained machine learning model."
      ],
      "metadata": {
        "id": "VmIgYT30TlVg"
      }
    },
    {
      "cell_type": "code",
      "source": [
        "!pip install requests\n",
        "\n",
        "import requests\n",
        "import io\n",
        "from PIL import Image  # Make sure to import Image from PIL\n",
        "from tensorflow.keras.preprocessing.image import img_to_array\n",
        "import numpy as np  # Make sure numpy is imported\n",
        "\n",
        "def path3(image_path, model):\n",
        "    \"\"\"\n",
        "    Predicts the damage location in an image.\n",
        "\n",
        "    Args:\n",
        "        image_path: The URL or local path of the image.\n",
        "        model: The trained model to use for prediction.\n",
        "\n",
        "    Prints:\n",
        "        The predicted damage location.\n",
        "    \"\"\"\n",
        "    try:\n",
        "        # Try loading the image directly\n",
        "        response = requests.get(image_path, stream=True, headers={'User-Agent': 'Mozilla/5.0'})\n",
        "        response.raise_for_status()  # Raise HTTPError for bad responses (4xx or 5xx)\n",
        "\n",
        "        image = Image.open(io.BytesIO(response.content)).convert(\"RGB\")  # Using Image from PIL\n",
        "        image = image.resize((256, 256))  # Resize to match model input\n",
        "        x = img_to_array(image)\n",
        "        x = x.reshape((1,) + x.shape) / 255  # Reshape and normalize\n",
        "    except requests.exceptions.RequestException as e:\n",
        "        print(f\"Error fetching image: {e}\")\n",
        "        return\n",
        "\n",
        "    # Check if the model has been loaded/trained\n",
        "    if model is not None:\n",
        "        pred = model.predict(x)\n",
        "        pred_labels = np.argmax(pred, axis=1)\n",
        "        d = {0: 'Front', 1: 'Rear', 2: 'Side'}\n",
        "        for key in d.keys():\n",
        "            if pred_labels[0] == key:\n",
        "                print(\"Validating location of damage....Result:\", d[key])\n",
        "        print(\"Severity assessment complete.\")\n",
        "    else:\n",
        "        print(\"Error: Model not loaded or trained.\")"
      ],
      "metadata": {
        "colab": {
          "base_uri": "https://localhost:8080/"
        },
        "id": "cbQeonvXS-99",
        "outputId": "9bb6e8f5-71e9-483a-e1f1-f44222dcc761"
      },
      "execution_count": null,
      "outputs": [
        {
          "output_type": "stream",
          "name": "stdout",
          "text": [
            "Requirement already satisfied: requests in /usr/local/lib/python3.10/dist-packages (2.32.3)\n",
            "Requirement already satisfied: charset-normalizer<4,>=2 in /usr/local/lib/python3.10/dist-packages (from requests) (3.4.0)\n",
            "Requirement already satisfied: idna<4,>=2.5 in /usr/local/lib/python3.10/dist-packages (from requests) (3.10)\n",
            "Requirement already satisfied: urllib3<3,>=1.21.1 in /usr/local/lib/python3.10/dist-packages (from requests) (2.2.3)\n",
            "Requirement already satisfied: certifi>=2017.4.17 in /usr/local/lib/python3.10/dist-packages (from requests) (2024.8.30)\n"
          ]
        }
      ]
    }
  ],
  "metadata": {
    "colab": {
      "provenance": []
    },
    "kernelspec": {
      "display_name": "Python 3",
      "name": "python3"
    },
    "language_info": {
      "name": "python"
    }
  },
  "nbformat": 4,
  "nbformat_minor": 0
}